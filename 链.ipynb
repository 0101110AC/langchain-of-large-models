{
 "cells": [
  {
   "cell_type": "code",
   "execution_count": 3,
   "metadata": {},
   "outputs": [
    {
     "name": "stdout",
     "output_type": "stream",
     "text": [
      "<think>\n",
      "\n",
      "</think>\n",
      "\n",
      "你好！很高兴见到你，有什么我可以帮忙的吗？无论是学习、工作还是生活中的问题，都可以告诉我哦！😊\n"
     ]
    }
   ],
   "source": [
    "from langchain_ollama import OllamaLLM\n",
    "\n",
    "model = OllamaLLM(model=\"deepseek-r1:1.5b\",\n",
    "                  base_url=\"http://localhost:11434\",temperature=0.9)\n",
    "\n",
    "prompt = \"你好\"\n",
    "response = model(prompt)\n",
    "print(response)"
   ]
  },
  {
   "cell_type": "markdown",
   "metadata": {},
   "source": [
    "#### LLMChain "
   ]
  },
  {
   "cell_type": "code",
   "execution_count": 4,
   "metadata": {},
   "outputs": [
    {
     "name": "stderr",
     "output_type": "stream",
     "text": [
      "C:\\Users\\33249\\AppData\\Local\\Temp\\ipykernel_51772\\2547273279.py:7: LangChainDeprecationWarning: The class `LLMChain` was deprecated in LangChain 0.1.17 and will be removed in 1.0. Use :meth:`~RunnableSequence, e.g., `prompt | llm`` instead.\n",
      "  chain = LLMChain(llm=model, prompt=prompt)\n",
      "C:\\Users\\33249\\AppData\\Local\\Temp\\ipykernel_51772\\2547273279.py:9: LangChainDeprecationWarning: The method `Chain.run` was deprecated in langchain 0.1.0 and will be removed in 1.0. Use :meth:`~invoke` instead.\n",
      "  chain.run(product)\n"
     ]
    },
    {
     "data": {
      "text/plain": [
       "'<think>\\nAlright, so I\\'m trying to figure out what the best name would be for a company that makes colorful socks. Let me think about this step by step.\\n\\nFirst, I know that colorful socks are made from natural materials like cotton or recycled materials. The key here is that they\\'re vibrant and eye-catching. Now, I need to come up with a catchy and memorable name that reflects these qualities.\\n\\nHmm, the user mentioned using words like \"fascinating,\" \"vibrant,\" and \"exciting.\" Those seem good because they evoke emotions related to color and interest. But maybe there\\'s something more specific or modern that could fit better for the company name.\\n\\nWait, what about incorporating the word \"rain\"? Rain is a natural element, and it can add a playful twist, which might attract environmentally conscious companies. That sounds fun and dynamic. So, combining those two might make the name catchy.\\n\\nLet me see if there\\'s an existing name that already uses similar elements. Oh yeah, I think \"Rain appealing\" comes to mind. It has the rain theme and is pretty memorable. It also plays on the idea of something vibrant or exciting because rain is dynamic in nature.\\n\\nIs there any better way to make it even more vivid? Maybe adding some descriptive words could help, but since the name needs to be concise and catchy, Rain appealing seems like a solid choice. It keeps the playful and visually engaging aspect without being too long.\\n\\nI should also consider how people might pronounce the name and if it feels right for the company\\'s brand. If someone names their socks \"Rain appealing,\" they\\'d probably get excited about the colors and texture because of the rain theme. That seems like a good fit.\\n\\nWait, another thought: maybe using an adjective like \\'vibrant\\' could add intensity to the name. But \"rain appealing\" already includes a strong sense of playfulness and excitement, so I don\\'t think it needs an extra adjective unless someone wants more emphasis on the vibrant aspect.\\n\\nAlright, after thinking through all these possibilities, I\\'m confident that \"Rain appealing\" is the best name for this company. It\\'s catchy, conveys both color and excitement, and ties into a natural theme.\\n</think>\\n\\nThe best name to describe a company that makes colorful socks could be **\"Rain appealing.\"** This name effectively combines elements of playfulness with vibrant colors, appealing to those who appreciate dynamic and engaging designs.'"
      ]
     },
     "execution_count": 4,
     "metadata": {},
     "output_type": "execute_result"
    }
   ],
   "source": [
    "from langchain.prompts import ChatPromptTemplate\n",
    "from langchain.chains import LLMChain\n",
    "\n",
    "prompt = ChatPromptTemplate.from_template(\"What is the best name  to describe  \\\n",
    "        a company that makes {product}?\")\n",
    "\n",
    "chain = LLMChain(llm=model, prompt=prompt)\n",
    "product = \"colorful socks\"\n",
    "chain.run(product)"
   ]
  },
  {
   "cell_type": "markdown",
   "metadata": {},
   "source": [
    "#### 顺序链/SequentialChain"
   ]
  },
  {
   "cell_type": "code",
   "execution_count": 5,
   "metadata": {},
   "outputs": [],
   "source": [
    "from langchain.chains import SimpleSequentialChain\n",
    "\n",
    "model = OllamaLLM(model=\"deepseek-r1:1.5b\",base_url=\"http://localhost:11434\",temperature=0.9)\n",
    "\n",
    "# 提示词模板1\n",
    "first_prompt =  ChatPromptTemplate.from_template(\"What is the best name to describe \\\n",
    "        a company that makes {product}?\")\n",
    "# Chain 1\n",
    "chain_one = LLMChain(llm=model, prompt=first_prompt)\n",
    "\n",
    "# 提示词模板2\n",
    "second_prompt = ChatPromptTemplate.from_template(\"Write a 20 words description for the following \\\n",
    "        company:{company_name}\")\n",
    "# Chain 2\n",
    "chain_two = LLMChain(llm=model, prompt=second_prompt) "
   ]
  },
  {
   "cell_type": "code",
   "execution_count": 6,
   "metadata": {},
   "outputs": [
    {
     "name": "stdout",
     "output_type": "stream",
     "text": [
      "\n",
      "\n",
      "\u001b[1m> Entering new SimpleSequentialChain chain...\u001b[0m\n",
      "\u001b[36;1m\u001b[1;3m<think>\n",
      "Alright, I need to figure out the best name for a company that makes colorful socks. The user mentioned \"colorful socks,\" so I should think about what other competitors might have. Maybe something with \"frock\" or \"glow\" could work since those are already in use by brands and sound catchy.\n",
      "\n",
      "I wonder if the name needs to include 'socks' but make it more playful instead of too formal. Maybe combining parts of words like 'colorful,' 'socks,' and something else. Words like 'glow,' 'trend,' or even a play on words like 'frosty' might work.\n",
      "\n",
      "I should also consider the brand's target audience – probably kids, adults looking for trendy socks. Words that are appealing to this group would be better. Maybe combining 'colorful' with something fun or energetic could make the name memorable and catchy.\n",
      "</think>\n",
      "\n",
      "A great name for a company making colorful socks could be **GlowFro** (glofkro) – it's catchy, playful, and reflects the color variety while being easy to remember.\u001b[0m\n",
      "\u001b[33;1m\u001b[1;3m<think>\n",
      "Okay, so I need to come up with a 20-word description for this company that makes colorful socks. The user provided some sample names like \"FROCK\" or \"GLOWGLU,\" which are pretty clever and fun. I should think of something similar but maybe more original.\n",
      "\n",
      "First, I'll consider the target audience – likely kids or adults looking for trendy socks. Words that evoke playfulness and coolness would be ideal. Maybe combining colors with something playful like \"frosty\" could work. Alternatively, using words like \"glow,\" \"trend,\" or \"frock\" might add some flair.\n",
      "\n",
      "I should also make sure the name is memorable and not too long. Let me think of some possible combinations:\n",
      "\n",
      "1. **GlowFro** – This one comes to mind because it's catchy, fun, and includes both 'colorful' and 'socks.' It feels modern and energetic.\n",
      "2. **FrostyFro** – This has a play on words with 'frosty,' which could appeal to the casual, trendy crowd.\n",
      "3. **FricklySocks** – Combining 'frickly' (a playful prefix) with 'socks' gives it that cool vibe.\n",
      "\n",
      "I think these names would fit well and are easy to remember. Maybe I can even add some flair to them by making them more catchy or incorporating puns.\n",
      "</think>\n",
      "\n",
      "Here are a few original 20-word names for the company:\n",
      "\n",
      "1. **GlowFro**\n",
      "2. **FrostyFro**\n",
      "3. **FricklySocks**\n",
      "\n",
      "Each of these incorporates playful elements and the target audience's interests, ensuring they're both memorable and appealing to your potential customers.\u001b[0m\n",
      "\n",
      "\u001b[1m> Finished chain.\u001b[0m\n"
     ]
    },
    {
     "data": {
      "text/plain": [
       "'<think>\\nOkay, so I need to come up with a 20-word description for this company that makes colorful socks. The user provided some sample names like \"FROCK\" or \"GLOWGLU,\" which are pretty clever and fun. I should think of something similar but maybe more original.\\n\\nFirst, I\\'ll consider the target audience – likely kids or adults looking for trendy socks. Words that evoke playfulness and coolness would be ideal. Maybe combining colors with something playful like \"frosty\" could work. Alternatively, using words like \"glow,\" \"trend,\" or \"frock\" might add some flair.\\n\\nI should also make sure the name is memorable and not too long. Let me think of some possible combinations:\\n\\n1. **GlowFro** – This one comes to mind because it\\'s catchy, fun, and includes both \\'colorful\\' and \\'socks.\\' It feels modern and energetic.\\n2. **FrostyFro** – This has a play on words with \\'frosty,\\' which could appeal to the casual, trendy crowd.\\n3. **FricklySocks** – Combining \\'frickly\\' (a playful prefix) with \\'socks\\' gives it that cool vibe.\\n\\nI think these names would fit well and are easy to remember. Maybe I can even add some flair to them by making them more catchy or incorporating puns.\\n</think>\\n\\nHere are a few original 20-word names for the company:\\n\\n1. **GlowFro**\\n2. **FrostyFro**\\n3. **FricklySocks**\\n\\nEach of these incorporates playful elements and the target audience\\'s interests, ensuring they\\'re both memorable and appealing to your potential customers.'"
      ]
     },
     "execution_count": 6,
     "metadata": {},
     "output_type": "execute_result"
    }
   ],
   "source": [
    "# 组合顺序链,将第一条链的输出传递给第二条链\n",
    "overall_chain = SimpleSequentialChain(chains=[chain_one,chain_two], verbose=True)\n",
    "\n",
    "overall_chain.run(product)"
   ]
  },
  {
   "cell_type": "code",
   "execution_count": 7,
   "metadata": {},
   "outputs": [],
   "source": [
    "#  SimpleSequentialChain在处理一个输入和一个输出时很方便。\n",
    "#  但是，如果你需要处理多个输入和多个输出，那么你可能会发现SequentialChain更有用。\n",
    "\n",
    "from langchain.chains import SequentialChain\n",
    "\n",
    "first_prompt = ChatPromptTemplate.from_template(\n",
    "    \"Translate the following review to English:\"\n",
    "    \"\\n\\n{Review}\")\n",
    "\n",
    "# Chain 1\n",
    "chain_one = LLMChain(llm=model, prompt=first_prompt,output_key=\"EnglishReview\")"
   ]
  },
  {
   "cell_type": "code",
   "execution_count": 8,
   "metadata": {},
   "outputs": [],
   "source": [
    "second_prompt = ChatPromptTemplate.from_template(\n",
    "    \"Can you summarize the following review in 1 sentence:\"\n",
    "    \"\\n\\n{EnglishReview}\")\n",
    "\n",
    "# Chain 2\n",
    "chain_two = LLMChain(llm=model, prompt=second_prompt,output_key=\"summary\")"
   ]
  },
  {
   "cell_type": "code",
   "execution_count": 9,
   "metadata": {},
   "outputs": [],
   "source": [
    "third_prompt = ChatPromptTemplate.from_template(\n",
    "    \"What language is the following review :\\n\\n{Review}\")\n",
    "\n",
    "# Chain 3\n",
    "chain_three = LLMChain(llm=model, prompt=third_prompt,output_key=\"language\")"
   ]
  },
  {
   "cell_type": "code",
   "execution_count": 10,
   "metadata": {},
   "outputs": [],
   "source": [
    "fourth_prompt = ChatPromptTemplate.from_template(\n",
    "    \"Write a follow up  response  to the following \"\n",
    "    \"summary in the specified language:\"\n",
    "    \"\\n\\nSummary: {summary}\\n\\nLanguage: {language}\")\n",
    "\n",
    "# Chain 4\n",
    "chain_four = LLMChain(llm=model, prompt=fourth_prompt,output_key=\"response\")"
   ]
  },
  {
   "cell_type": "markdown",
   "metadata": {},
   "source": [
    "有很多不同的输入和输出一起运行，需要确保变量名称完全一致，这非常重要！     \n",
    "链中的任何步骤都可以接收多个输入变量！！"
   ]
  },
  {
   "cell_type": "code",
   "execution_count": 11,
   "metadata": {},
   "outputs": [
    {
     "name": "stdout",
     "output_type": "stream",
     "text": [
      "\n",
      "\n",
      "\u001b[1m> Entering new SequentialChain chain...\u001b[0m\n"
     ]
    },
    {
     "name": "stderr",
     "output_type": "stream",
     "text": [
      "C:\\Users\\33249\\AppData\\Local\\Temp\\ipykernel_51772\\3188830326.py:10: LangChainDeprecationWarning: The method `Chain.__call__` was deprecated in langchain 0.1.0 and will be removed in 1.0. Use :meth:`~invoke` instead.\n",
      "  overall_chain(review)\n"
     ]
    },
    {
     "name": "stdout",
     "output_type": "stream",
     "text": [
      "\n",
      "\u001b[1m> Finished chain.\u001b[0m\n"
     ]
    },
    {
     "data": {
      "text/plain": [
       "{'Review': 'Je suis très satisfait de ce produit. Il est de très bonne qualité et fonctionne parfaitement. Je le recommande vivement à tous ceux qui cherchent un produit similaire.',\n",
       " 'EnglishReview': '<think>\\nOkay, so I need to translate this review into English. Let me read through it carefully.\\n\\nThe user says: \"Je suis très satisfait de ce produit. Il est de très bonne qualité et fonctionne parfaitement. Je le recommande vivement à tousthose qui cherchent un produit similaire.\"\\n\\nAlright, breaking it down sentence by sentence.\\n\\n1. \"Je suis very satisfied with this product.\" The first part is quite formal. \"Very satisfied\" can be translated to \"very happy\" or \"exhilarating,\" but in a business context like customer service reviews, \"satisfied\" might be the best fit here. So maybe \"very satisfied.\"\\n\\n2. \"Il est de très bonne qualité.\" Translates directly as \"It is very good quality.\" The word \"baque\" can mean \"good\" or \"better,\" so using that seems more natural in this context.\\n\\n3. \"et fonctionne parfaitement.\" This means \"it functions perfectly.\" The phrase \"excellent travail\" fits well, though \"fonctionne parfaitement\" might be more precise and direct since it\\'s a complete verb phrase indicating perfect performance.\\n\\n4. \"Je le recommande vivement à tousthose qui cherchent un produit similaire.\" Finally, the recommendation part. \"Je le remerrievamment à tous les personnes qui cherchent un produit analogue.\" Translates to \"I recommend it very warmly to all those who are searching for a similar product.\" Here, \"remerrie\" can mean \"recommend\" or \"recommend me,\" which is a bit archaic but fits the context well. \"Vivement\" means \"very much\" and \"vamment\" probably meant \"very warmly,\" so combining them sounds natural.\\n\\nPutting it all together:\\n\\nVery happy with this product, it has excellent quality and works perfectly. I strongly recommend it to everyone who\\'s looking for a similar product.\\n\\nI think that covers the translation accurately while maintaining the original tone and meaning.\\n</think>\\n\\nVery happy with this product, it has excellent quality and functions perfectly. I strongly recommend it to everyone who is looking for a similar product.',\n",
       " 'summary': '<think>\\nOkay, so I need to translate this review into English. Let me go through each part step by step.\\n\\nFirst sentence: \"Je suis très satisfait de ce produit.\" That\\'s pretty formal and technical, so in English I can use \"very satisfied\" to match it. \\n\\nSecond sentence: \"Il est de très bonne qualité.\" Directly translates to \"It is very good quality,\" using \"baque\" to mean \"good.\"\\n\\nThird sentence: \"et fonctionne parfaitement.\" That means \"and functions perfectly,\" so I\\'ll say \"it functions perfectly\" for clarity.\\n\\nFourth sentence: \"Je le recommande vivement à tousthose qui cherchent un produit similaire.\" Here, \"je le remerrievamment à tous les personnes qui cherchent un produit analogue\" sounds natural and formal, especially in a customer service context where the tone is appreciative but slightly archaic.\\n\\nPutting it all together: I\\'ll start with \"Very happy with this product,\" then mention its quality and perfect function. End with a recommendation warmly to others looking for similar products.\\n</think>\\n\\nVery happy with this product, it has excellent quality and functions perfectly. I strongly recommend it to everyone who is looking for a similar product.',\n",
       " 'language': '<think>\\nAlright, I need to figure out what language this review uses. Let me read through it again.\\n\\nThe user starts with \"Je suis very satisfait de ce produit.\" That\\'s a direct quote in French, using the word \"very.\" The sentence ends with \"Il est de très bonne qualité et fonctionne parfaitement.\" Again, there are instances of \"trouver\" or \"est de,\" which I recognize as French verbs that mean \"to get\" or \"to receive.\"\\n\\nSo, putting it all together, the review is in French. The key phrases like \"beau produit\" and \"quoute robe\" indicate that it\\'s a comment on a product of high quality and comfort. The use of words like \"trouver,\" \"de\", and \"et\" confirms that the language here is in French.\\n\\nI should also consider if there are any other languages used but find that most of the key terms point back to French. Therefore, it\\'s safe to conclude that this review is written in French.\\n</think>\\n\\nLa review utilise les termes français comme : \\n\\n- \"beau produit\" (product of high quality)\\n- \"quoute robe\" (very comfortable product)\\n\\nLes mots-clés tels que \"trouver,\" \"de,\" et \"et\" (to receive, this product is, and) renforcent l\\'objectif. Ainsi, la langue utilisée est la français.',\n",
       " 'response': \"<think>\\nAlright, let me figure out the user's request. They provided a summary in French and asked for a follow-up response in English. The user also mentioned that if they know another language, I should consider offering further assistance.\\n\\nThe user wants an accurate translation of their review. However, without seeing the original text, it's challenging to provide precise translations. I can offer general guidance on how to translate reviews or suggest specific terms based on context.\\n\\nI should ask for more details about the summary they provided so that I can assist better. That way, I can ensure my response is helpful and accurate.\\n</think>\\n\\nIl semble que vous avez récupéré une réflexion en français. Si vous souhaitez l'exprimer dans d'autres langues, n'hésitez pas à me contourner !\"}"
      ]
     },
     "execution_count": 11,
     "metadata": {},
     "output_type": "execute_result"
    }
   ],
   "source": [
    "overall_chain = SequentialChain(chains=[chain_one, chain_two, chain_three, chain_four], \n",
    "                                input_variables=[\"Review\"],\n",
    "                                output_variables=[\"EnglishReview\", \"summary\", \"language\", \"response\"],\n",
    "                                verbose=True)\n",
    "\n",
    "review = \"Je suis très satisfait de ce produit. Il est de très bonne qualité et fonctionne parfaitement. Je le recommande vivement à tous ceux qui cherchent un produit similaire.\"\n",
    "\n",
    "# 注意这里是直接使用 __call__ 方法（即 overall_chain(...)）替代 run，它支持多输出\n",
    "# 因为SequentialChain 的 run 方法设计上只支持单输出，所以需要使用 __call__ 方法\n",
    "overall_chain(review)"
   ]
  },
  {
   "cell_type": "markdown",
   "metadata": {},
   "source": [
    "#### 路由链/RouterChain"
   ]
  },
  {
   "cell_type": "code",
   "execution_count": 12,
   "metadata": {},
   "outputs": [],
   "source": [
    "# 多条子链，每条子链的输入和输出不同，需要根据输入选择不同的子链\n",
    "# 这时候就可以使用路由链（RouteChain）\n",
    "\n",
    "physics_template = \"\"\"You are a very smart physics professor. \\\n",
    "You are great at answering questions about Physics. \\\n",
    "You can answer questions about Physics in a concise and easy to understand manner.\\\n",
    "You are helpful and friendly. \\\n",
    "Here is a question:\n",
    "{input}\"\"\"\n",
    "\n",
    "math_template = \"\"\"You are a very smart math professor. \\\n",
    "You are great at answering questions about Math. \\\n",
    "You can answer questions about Math in a concise and easy to understand manner.\\\n",
    "You are helpful and friendly. \\\n",
    "Here is a question:\n",
    "{input}\"\"\"\n",
    "\n",
    "history_template = \"\"\"You are a very smart history professor. \\\n",
    "You are great at answering questions about History. \\\n",
    "You can answer questions about History in a concise and easy to understand manner.\\\n",
    "You are helpful and friendly. \\\n",
    "Here is a question:\n",
    "{input}\"\"\"\n",
    "\n",
    "computerscience_template = \"\"\"You are a very smart computer science professor. \\\n",
    "You are great at answering questions about Computer Science. \\\n",
    "You can answer questions about Computer Science in a concise and easy to understand manner.\\\n",
    "You are helpful and friendly. \\\n",
    "Here is a question:\n",
    "{input}\"\"\""
   ]
  },
  {
   "cell_type": "code",
   "execution_count": 13,
   "metadata": {},
   "outputs": [],
   "source": [
    "prompt_infos = [\n",
    "    {\n",
    "        \"name\":\"physics\",\n",
    "        \"description\":\"Good for answering questions about physics\",\n",
    "        \"template\": physics_template\n",
    "    },\n",
    "    {\n",
    "        \"name\":\"math\",\n",
    "        \"description\":\"Good for answering questions about math\",\n",
    "        \"template\": math_template\n",
    "    },\n",
    "    {\n",
    "        \"name\":\"biology\",\n",
    "        \"description\":\"Good for answering biology questions\",\n",
    "        \"template\": biology_template\n",
    "    }\n",
    "]"
   ]
  },
  {
   "cell_type": "code",
   "execution_count": 14,
   "metadata": {},
   "outputs": [],
   "source": [
    "from langchain.chains.router import MultiPromptChain\n",
    "from langchain.chains.router.llm_router import LLMRouterChain, RouterOutputParser\n",
    "from langchain.prompts import PromptTemplate\n",
    "from langchain_ollama import OllamaLLM\n",
    "\n",
    "# 因为是要解决学术问题，所以重新实例化模型以设置模型温度\n",
    "model = OllamaLLM(model=\"deepseek-r1:1.5b\",base_url=\"http://localhost:11434\",temperature=0)"
   ]
  },
  {
   "cell_type": "code",
   "execution_count": 15,
   "metadata": {},
   "outputs": [],
   "source": [
    "destination_chains = {}\n",
    "for p_info in prompt_infos:\n",
    "    name = p_info['name']\n",
    "    prompt_template = p_info['prompt_template']\n",
    "    prompt = PromptTemplate(template=prompt_template, input_variables=[\"input\"])\n",
    "    chain = LLMChain(llm=model, prompt=prompt)\n",
    "    destination_chains[name] = chain\n",
    "\n",
    "destination = [f\"{p['name']}: {p['description']}\" for p in prompt_infos]\n",
    "destination_str = \"\\n\".join(destination)    "
   ]
  },
  {
   "cell_type": "code",
   "execution_count": 31,
   "metadata": {},
   "outputs": [],
   "source": [
    "default_prompt = ChatPromptTemplate.from_template(\"{input}\")\n",
    "default_chain = LLMChain(llm=model, prompt=default_prompt)"
   ]
  },
  {
   "cell_type": "code",
   "execution_count": 32,
   "metadata": {},
   "outputs": [],
   "source": [
    "MULTI_PROMPT_TEMPLATE = \"\"\" Given a raw text input to a chain, please select the best prompt to use and return the result. \\\n",
    "<< FORMATTING >>\n",
    "Return a markdown code snippet with a JSON object formattection\n",
    "```json\n",
    "{{{{\n",
    "    \"destination\":string \\ name of the prompt to use or \"none\" if no prompt is needed\n",
    "    \"next_inputs\": string \\ a potentially modified version of the original input that should be used in the next step\n",
    "}}}}\n",
    "```\n",
    "REMEMBER: \"destination\" MUST be one of the candidates in the candidate_destinations list, or else the agent will fail and return with an error.\n",
    "REMEMBER: \"next_inputs\" MUST be a valid question that could be asked to the destination chain.\n",
    "\n",
    "<< CANDIDATE PROMPTS >> \n",
    "{destinations}\n",
    "\n",
    "<< INPUT >> \n",
    "{{input}}\n",
    "\n",
    "<< OUTPUT >>"""
   ]
  },
  {
   "cell_type": "code",
   "execution_count": 33,
   "metadata": {},
   "outputs": [],
   "source": [
    "router_template = MULTI_PROMPT_TEMPLATE.format(\n",
    "    destinations=destination_str\n",
    ")\n",
    "\n",
    "router_prompt = PromptTemplate(\n",
    "    template=router_template, \n",
    "    input_variables=[\"input\"],\n",
    "    output_parser=RouterOutputParser(),\n",
    "    )\n",
    "\n",
    "router_chain = LLMRouterChain.from_llm(\n",
    "    model,\n",
    "    router_prompt\n",
    ")"
   ]
  },
  {
   "cell_type": "code",
   "execution_count": 34,
   "metadata": {},
   "outputs": [],
   "source": [
    "chain = MultiPromptChain(router_chain=router_chain, \n",
    "                         destination_chains=destination_chains,\n",
    "                         default_chain=default_chain,verbose=True)\n"
   ]
  },
  {
   "cell_type": "code",
   "execution_count": 35,
   "metadata": {},
   "outputs": [
    {
     "name": "stdout",
     "output_type": "stream",
     "text": [
      "\n",
      "\n",
      "\u001b[1m> Entering new MultiPromptChain chain...\u001b[0m\n",
      "physics: {'input': 'What is black body radiation?'}\n",
      "\u001b[1m> Finished chain.\u001b[0m\n"
     ]
    },
    {
     "data": {
      "text/plain": [
       "'<think>\\nOkay, so I need to figure out what black body radiation is. I remember from school that it\\'s related to light and heat, but I\\'m not exactly sure how it all ties together. Let me start by breaking down the term \"black body.\" Black in color usually means something that reflects a lot of light without reflecting much, so maybe a black body does something similar with electromagnetic radiation.\\n\\nI think a black body is an idealized object that absorbs all incident electromagnetic radiation, regardless of frequency or angle. That makes sense because if it\\'s a perfect absorber, it would absorb all the light it gets. But wait, how does this relate to radiation? I remember something about different objects emitting and absorbing various types of radiation.\\n\\nOh, right! The black body concept is used in physics, especially in the study of thermal radiation. There must be a specific term for the radiation that an object emits when it\\'s at a certain temperature. Maybe it\\'s called blackbody radiation because it\\'s like a black object reflecting all colors? Or perhaps it\\'s about how objects emit light.\\n\\nI think it\\'s related to the electromagnetic spectrum, which includes visible light, X-rays, radio waves, and so on. So, if an object is a perfect absorber of all wavelengths, its emitted radiation would be at the extremes—like very high frequencies (ultraviolet) or very low frequencies (infrared). That sounds like blackbody radiation.\\n\\nWait, but how does this differ from other types of radiation? Like, not all objects emit all colors. For example, a red object emits more red light than blue. So, maybe the idea is that when an object is at a specific temperature, it emits radiation that\\'s characteristic of its color or wavelength. That would make sense because different temperatures correspond to different wavelengths.\\n\\nI\\'ve heard about Wien\\'s Law before. It says that the peak wavelength of blackbody radiation is inversely proportional to the temperature. So hotter objects emit more in shorter wavelengths and cooler ones more in longer ones. That must be part of what defines blackbody radiation.\\n\\nAlso, I think there\\'s something called the Stefan-Boltzmann law which relates the power radiated by a black body to its temperature. The formula is P = σAT^4, where σ is the Stefan-Boltzmann constant, A is the surface area, and T is the temperature in Kelvin. This shows how much energy an object emits based on its temperature.\\n\\nSo putting it all together, blackbody radiation refers to the electromagnetic waves emitted by a perfect absorber at a specific temperature across the entire spectrum. It\\'s used in various areas like astrophysics for understanding stars\\' temperatures and in engineering for designing efficient thermal systems.\\n</think>\\n\\nBlack body radiation is a fundamental concept in physics that describes the electromagnetic waves emitted by an idealized object known as a black body. A black body is defined as an object that absorbs all incident electromagnetic radiation, regardless of frequency or angle. This means it reflects no light at all.\\n\\nThe term \"blackbody\" comes from its ability to absorb and emit light across the entire spectrum, effectively acting like a perfect absorber. Blackbody radiation refers to the characteristic spectrum of light emitted by such objects when they are at a specific temperature. The peak wavelength of this radiation is inversely proportional to the temperature, as described by Wien\\'s Law.\\n\\nAdditionally, blackbody radiation is governed by the Stefan-Boltzmann law, which states that the power radiated by a black body is proportional to its surface area and the fourth power of its absolute temperature. This law helps in understanding how objects emit energy based on their temperature.\\n\\nIn summary, blackbody radiation is the characteristic spectrum of light emitted by an idealized object at a specific temperature across all wavelengths, playing a crucial role in various areas of physics and engineering.'"
      ]
     },
     "execution_count": 35,
     "metadata": {},
     "output_type": "execute_result"
    }
   ],
   "source": [
    "chain.run(\"What is black body radiation?\") "
   ]
  },
  {
   "cell_type": "code",
   "execution_count": 36,
   "metadata": {},
   "outputs": [
    {
     "name": "stdout",
     "output_type": "stream",
     "text": [
      "\n",
      "\n",
      "\u001b[1m> Entering new MultiPromptChain chain...\u001b[0m\n",
      "math: {'input': 'What is 2+2 in [some context]'}\n",
      "\u001b[1m> Finished chain.\u001b[0m\n"
     ]
    },
    {
     "data": {
      "text/plain": [
       "'<think>\\nFirst, I need to determine the specific context in which \"2 + 2\" is being asked.\\n\\nAssuming this is a basic arithmetic problem, the sum of two numbers, each represented by the digit \\'2\\'.\\n\\nAdding these together gives a total of four.\\n</think>\\n\\nSure! Let\\'s break down the addition step by step:\\n\\n\\\\[\\n2 + 2 = \\\\boxed{4}\\n\\\\]\\n\\n**Step-by-Step Explanation:**\\n\\n1. **Identify the Numbers to Add:**  \\n   We are adding two numbers, both represented by \\'2\\'.\\n\\n2. **Perform the Addition:**  \\n   \\\\[\\n   2 + 2 = 4\\n   \\\\]\\n\\n3. **State the Final Answer:**  \\n   The sum of 2 and 2 is **4**.\\n\\n\\\\[\\n\\\\boxed{4}\\n\\\\]'"
      ]
     },
     "execution_count": 36,
     "metadata": {},
     "output_type": "execute_result"
    }
   ],
   "source": [
    "chain.run(\"What is 2+2 ?\")"
   ]
  },
  {
   "cell_type": "code",
   "execution_count": 37,
   "metadata": {},
   "outputs": [
    {
     "name": "stdout",
     "output_type": "stream",
     "text": [
      "\n",
      "\n",
      "\u001b[1m> Entering new MultiPromptChain chain...\u001b[0m\n",
      "none: {'input': ''}"
     ]
    },
    {
     "ename": "ValueError",
     "evalue": "Received invalid destination chain name 'none'",
     "output_type": "error",
     "traceback": [
      "\u001b[1;31m---------------------------------------------------------------------------\u001b[0m",
      "\u001b[1;31mValueError\u001b[0m                                Traceback (most recent call last)",
      "Cell \u001b[1;32mIn[37], line 1\u001b[0m\n\u001b[1;32m----> 1\u001b[0m \u001b[43mchain\u001b[49m\u001b[38;5;241;43m.\u001b[39;49m\u001b[43minvoke\u001b[49m\u001b[43m(\u001b[49m\u001b[38;5;124;43m\"\u001b[39;49m\u001b[38;5;124;43mWhy does erery cell in our body contain DNA? \u001b[39;49m\u001b[38;5;124;43m\"\u001b[39;49m\u001b[43m)\u001b[49m\n",
      "File \u001b[1;32mc:\\Users\\33249\\anaconda3\\envs\\xhd\\Lib\\site-packages\\langchain\\chains\\base.py:170\u001b[0m, in \u001b[0;36mChain.invoke\u001b[1;34m(self, input, config, **kwargs)\u001b[0m\n\u001b[0;32m    168\u001b[0m \u001b[38;5;28;01mexcept\u001b[39;00m \u001b[38;5;167;01mBaseException\u001b[39;00m \u001b[38;5;28;01mas\u001b[39;00m e:\n\u001b[0;32m    169\u001b[0m     run_manager\u001b[38;5;241m.\u001b[39mon_chain_error(e)\n\u001b[1;32m--> 170\u001b[0m     \u001b[38;5;28;01mraise\u001b[39;00m e\n\u001b[0;32m    171\u001b[0m run_manager\u001b[38;5;241m.\u001b[39mon_chain_end(outputs)\n\u001b[0;32m    173\u001b[0m \u001b[38;5;28;01mif\u001b[39;00m include_run_info:\n",
      "File \u001b[1;32mc:\\Users\\33249\\anaconda3\\envs\\xhd\\Lib\\site-packages\\langchain\\chains\\base.py:160\u001b[0m, in \u001b[0;36mChain.invoke\u001b[1;34m(self, input, config, **kwargs)\u001b[0m\n\u001b[0;32m    157\u001b[0m \u001b[38;5;28;01mtry\u001b[39;00m:\n\u001b[0;32m    158\u001b[0m     \u001b[38;5;28mself\u001b[39m\u001b[38;5;241m.\u001b[39m_validate_inputs(inputs)\n\u001b[0;32m    159\u001b[0m     outputs \u001b[38;5;241m=\u001b[39m (\n\u001b[1;32m--> 160\u001b[0m         \u001b[38;5;28;43mself\u001b[39;49m\u001b[38;5;241;43m.\u001b[39;49m\u001b[43m_call\u001b[49m\u001b[43m(\u001b[49m\u001b[43minputs\u001b[49m\u001b[43m,\u001b[49m\u001b[43m \u001b[49m\u001b[43mrun_manager\u001b[49m\u001b[38;5;241;43m=\u001b[39;49m\u001b[43mrun_manager\u001b[49m\u001b[43m)\u001b[49m\n\u001b[0;32m    161\u001b[0m         \u001b[38;5;28;01mif\u001b[39;00m new_arg_supported\n\u001b[0;32m    162\u001b[0m         \u001b[38;5;28;01melse\u001b[39;00m \u001b[38;5;28mself\u001b[39m\u001b[38;5;241m.\u001b[39m_call(inputs)\n\u001b[0;32m    163\u001b[0m     )\n\u001b[0;32m    165\u001b[0m     final_outputs: Dict[\u001b[38;5;28mstr\u001b[39m, Any] \u001b[38;5;241m=\u001b[39m \u001b[38;5;28mself\u001b[39m\u001b[38;5;241m.\u001b[39mprep_outputs(\n\u001b[0;32m    166\u001b[0m         inputs, outputs, return_only_outputs\n\u001b[0;32m    167\u001b[0m     )\n\u001b[0;32m    168\u001b[0m \u001b[38;5;28;01mexcept\u001b[39;00m \u001b[38;5;167;01mBaseException\u001b[39;00m \u001b[38;5;28;01mas\u001b[39;00m e:\n",
      "File \u001b[1;32mc:\\Users\\33249\\anaconda3\\envs\\xhd\\Lib\\site-packages\\langchain\\chains\\router\\base.py:106\u001b[0m, in \u001b[0;36mMultiRouteChain._call\u001b[1;34m(self, inputs, run_manager)\u001b[0m\n\u001b[0;32m    104\u001b[0m     \u001b[38;5;28;01mreturn\u001b[39;00m \u001b[38;5;28mself\u001b[39m\u001b[38;5;241m.\u001b[39mdefault_chain(route\u001b[38;5;241m.\u001b[39mnext_inputs, callbacks\u001b[38;5;241m=\u001b[39mcallbacks)\n\u001b[0;32m    105\u001b[0m \u001b[38;5;28;01melse\u001b[39;00m:\n\u001b[1;32m--> 106\u001b[0m     \u001b[38;5;28;01mraise\u001b[39;00m \u001b[38;5;167;01mValueError\u001b[39;00m(\n\u001b[0;32m    107\u001b[0m         \u001b[38;5;124mf\u001b[39m\u001b[38;5;124m\"\u001b[39m\u001b[38;5;124mReceived invalid destination chain name \u001b[39m\u001b[38;5;124m'\u001b[39m\u001b[38;5;132;01m{\u001b[39;00mroute\u001b[38;5;241m.\u001b[39mdestination\u001b[38;5;132;01m}\u001b[39;00m\u001b[38;5;124m'\u001b[39m\u001b[38;5;124m\"\u001b[39m\n\u001b[0;32m    108\u001b[0m     )\n",
      "\u001b[1;31mValueError\u001b[0m: Received invalid destination chain name 'none'"
     ]
    }
   ],
   "source": [
    "chain.invoke(\"Why does erery cell in our body contain DNA? \")"
   ]
  }
 ],
 "metadata": {
  "kernelspec": {
   "display_name": "xhd",
   "language": "python",
   "name": "python3"
  },
  "language_info": {
   "codemirror_mode": {
    "name": "ipython",
    "version": 3
   },
   "file_extension": ".py",
   "mimetype": "text/x-python",
   "name": "python",
   "nbconvert_exporter": "python",
   "pygments_lexer": "ipython3",
   "version": "3.11.10"
  }
 },
 "nbformat": 4,
 "nbformat_minor": 2
}
