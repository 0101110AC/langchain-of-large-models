{
 "cells": [
  {
   "cell_type": "code",
   "execution_count": 2,
   "metadata": {},
   "outputs": [],
   "source": [
    "from langchain_ollama import OllamaLLM\n",
    "\n",
    "model = OllamaLLM(model=\"deepseek-r1:1.5b\",\n",
    "                  base_url=\"http://localhost:11434\",temperature=0.5)"
   ]
  },
  {
   "cell_type": "code",
   "execution_count": 3,
   "metadata": {},
   "outputs": [],
   "source": [
    "from langchain.chains import RetrievalQA\n",
    "from langchain.document_loaders import CSVLoader\n",
    "from langchain.vectorstores import DocArrayInMemorySearch\n",
    "from IPython.display import display, Markdown\n",
    "from langchain.chat_models import ChatOllama"
   ]
  },
  {
   "cell_type": "code",
   "execution_count": 4,
   "metadata": {},
   "outputs": [],
   "source": [
    "# 加载数据文件\n",
    "file = 'OutdoorClothingCatalog_1000.csv'\n",
    "data = CSVLoader(file_path=file,encoding='utf-8')"
   ]
  },
  {
   "cell_type": "markdown",
   "metadata": {},
   "source": [
    "#### 向量存储类"
   ]
  },
  {
   "cell_type": "code",
   "execution_count": 5,
   "metadata": {},
   "outputs": [
    {
     "name": "stderr",
     "output_type": "stream",
     "text": [
      "C:\\Users\\33249\\AppData\\Local\\Temp\\ipykernel_9916\\3920627482.py:8: LangChainDeprecationWarning: The class `HuggingFaceEmbeddings` was deprecated in LangChain 0.2.2 and will be removed in 1.0. An updated version of the class exists in the :class:`~langchain-huggingface package and should be used instead. To use it run `pip install -U :class:`~langchain-huggingface` and import as `from :class:`~langchain_huggingface import HuggingFaceEmbeddings``.\n",
      "  embeddings = HuggingFaceEmbeddings(\n"
     ]
    },
    {
     "name": "stdout",
     "output_type": "stream",
     "text": [
      "WARNING:tensorflow:From c:\\Users\\33249\\anaconda3\\envs\\xhd\\Lib\\site-packages\\keras\\src\\losses.py:2976: The name tf.losses.sparse_softmax_cross_entropy is deprecated. Please use tf.compat.v1.losses.sparse_softmax_cross_entropy instead.\n",
      "\n"
     ]
    },
    {
     "name": "stderr",
     "output_type": "stream",
     "text": [
      "c:\\Users\\33249\\anaconda3\\envs\\xhd\\Lib\\site-packages\\pydantic\\_migration.py:283: UserWarning: `pydantic.error_wrappers:ValidationError` has been moved to `pydantic:ValidationError`.\n",
      "  warnings.warn(f'`{import_path}` has been moved to `{new_location}`.')\n"
     ]
    }
   ],
   "source": [
    "from langchain.indexes import VectorstoreIndexCreator\n",
    "from langchain.embeddings import HuggingFaceEmbeddings\n",
    "\n",
    "# 替换为你实际的模型文件夹路径\n",
    "local_model_path = \"all-MiniLM-L6-v2\" \n",
    "\n",
    "# 创建嵌入模型\n",
    "embeddings = HuggingFaceEmbeddings(\n",
    "    model_name=local_model_path,\n",
    "    model_kwargs={\"device\": \"cuda\"}  # 如需用GPU，改为\"cuda\"，确保CUDA环境配置正确\n",
    ")\n",
    "# 创建向量存储索引\n",
    "index = VectorstoreIndexCreator(\n",
    "    vectorstore_cls=DocArrayInMemorySearch,\n",
    "    embedding=embeddings  # 必须指定嵌入模型\n",
    ").from_loaders([data])"
   ]
  },
  {
   "cell_type": "code",
   "execution_count": 6,
   "metadata": {},
   "outputs": [
    {
     "data": {
      "text/markdown": [
       "<think>\n",
       "Okay, so I need to figure out how to answer this question. The user provided some context about different shirts and their descriptions, specifically mentioning which ones have sun protection features. They want me to list all the shirts with sun protection in a table and summarize each one.\n",
       "\n",
       "First, let me go through the information given. There are four shirts listed: Sun Shield Shirt by, Women's Tropical Tee, Tropical Breeze Shirt, and Men's TropicVibe Shirt, Short-Sleeve.\n",
       "\n",
       "Looking at their descriptions, I see that each shirt has a mention of \"Sun Protection That Won't Wear Off,\" which indicates they all provide SPF 50+ coverage. That means all four shirts are suitable for sun protection.\n",
       "\n",
       "Now, to create the table, I should structure it with columns: Shirt Name, Size & Fit, Fabric & Care, and Additional Features. Each row will represent one shirt.\n",
       "\n",
       "For each shirt:\n",
       "\n",
       "1. Sun Shield Shirt by: The description says \"Sun Protection That Won't Wear Off,\" so that's a key feature.\n",
       "2. Women's Tropical Tee: It mentions \"SunSmart™ protection\" and the UPF 50+ rating, which is relevant for sun protection.\n",
       "3. Tropical Breeze Shirt: Same as above; it also has SPF 50+ coverage.\n",
       "4. Men's TropicVibe Shirt, Short-Sleeve: Again, \"Sun Protection That Won't Wear Off\" is mentioned.\n",
       "\n",
       "I think that covers all the shirts provided. I'll make sure each shirt's details are correctly represented in the table and that the additional features highlight their sun protection aspects clearly.\n",
       "</think>\n",
       "\n",
       "Here is a summary of the shirts with their key features related to sun protection:\n",
       "\n",
       "| Shirt Name               | Size & Fit                          | Fabric & Care                           | Additional Features                                                                                     |\n",
       "|--------------------------|--------------------------------------|---------------------------------------------------|---------------------------------------------------------------------------------------------|\n",
       "| Sun Shield Shirt by     | Slightly Fitted: Softly shapes the body. Falls at hip.  | 78% nylon, 22% Lycra Xtra Life fiber. UPF 50+ rated – highest possible.       | Wicks moisture for quick-drying comfort. Fits comfortably over favorite suits. Abrasion resistant.  |\n",
       "| Women's Tropical Tee   | Slightly Fitted: Softly shapes the body. Falls at hip. | 71% nylon, 29% polyester. Cape lining: 100% polyester. UPF 50+ rated. Machine wash & dry. | Built-in buttons; wrinkle resistant; smooth design. Features additional pockets and side shaping. |\n",
       "| Tropical Breeze Shirt   | Traditional Fit: Relaxed through chest, sleeve, waist. | 71% nylon, 29% polyester. Lining: 100% polyester knit mesh. UPF 50+ rated.       | High-performance fabric with moisture-wicking properties; wrinkle resistant. Front and back cape venting. |\n",
       "| Men's TropicVibe Shirt, Short-Sleeve | Traditional Fit: Relaxed through chest, sleeve, waist. | 71% nylon, 29% polyester. Lining: 100% polyester knit mesh. UPF 50+ rated.       | Lightweight feel; high performance fabric with coverage. Machine wash & dry. Additional features include front bellows pockets and an imported fabric. |"
      ],
      "text/plain": [
       "<IPython.core.display.Markdown object>"
      ]
     },
     "metadata": {},
     "output_type": "display_data"
    }
   ],
   "source": [
    "# 一个查询字符串query\n",
    "query = \"Please list all your shirts with sun protection.\\\n",
    "    in a table in markdown and summarize each one.\"\n",
    "\n",
    "#  使用index对象的query方法，传入查询字符串和指定的语言模型（llm=model），执行查询并获取响应\n",
    "response = index.query(query, llm=model)\n",
    "\n",
    "#  使用display函数展示响应内容，并通过Markdown格式渲染，使得表格和文字内容以富文本形式显示\n",
    "display(Markdown(response)) "
   ]
  },
  {
   "cell_type": "markdown",
   "metadata": {},
   "source": [
    "#### Embeddings、向量存储"
   ]
  },
  {
   "cell_type": "code",
   "execution_count": 7,
   "metadata": {},
   "outputs": [
    {
     "data": {
      "text/plain": [
       "Document(metadata={'source': 'OutdoorClothingCatalog_1000.csv', 'row': 0}, page_content=\": 0\\nname: Women's Campside Oxfords\\ndescription: This ultracomfortable lace-to-toe Oxford boasts a super-soft canvas, thick cushioning, and quality construction for a broken-in feel from the first time you put them on. \\n\\nSize & Fit: Order regular shoe size. For half sizes not offered, order up to next whole size. \\n\\nSpecs: Approx. weight: 1 lb.1 oz. per pair. \\n\\nConstruction: Soft canvas material for a broken-in feel and look. Comfortable EVA innersole with Cleansport NXT® antimicrobial odor control. Vintage hunt, fish and camping motif on innersole. Moderate arch contour of innersole. EVA foam midsole for cushioning and support. Chain-tread-inspired molded rubber outsole with modified chain-tread pattern. Imported. \\n\\nQuestions? Please contact us for any inquiries.\")"
      ]
     },
     "execution_count": 7,
     "metadata": {},
     "output_type": "execute_result"
    }
   ],
   "source": [
    "from langchain.document_loaders import CSVLoader\n",
    "\n",
    "data = CSVLoader(file_path='OutdoorClothingCatalog_1000.csv',encoding='utf-8')\n",
    "\n",
    "# 加载数据文件\n",
    "docs = data.load()\n",
    "# 查看第一个文档\n",
    "docs[0]"
   ]
  },
  {
   "cell_type": "code",
   "execution_count": 8,
   "metadata": {},
   "outputs": [],
   "source": [
    "from langchain_ollama import OllamaEmbeddings\n",
    "\n",
    "# 使用OllamaEmbeddings，使用下载到本地的模型进行创建embeddings\n",
    "embeddings = OllamaEmbeddings(model=\"deepseek-r1:1.5b\",base_url=\"http://localhost:11434\")"
   ]
  },
  {
   "cell_type": "code",
   "execution_count": 9,
   "metadata": {},
   "outputs": [
    {
     "name": "stdout",
     "output_type": "stream",
     "text": [
      "1536\n",
      "[-0.0008389856, -0.0020185872, -0.0095711285, -0.017875265, -0.008960758]\n"
     ]
    }
   ],
   "source": [
    "# 生成文本嵌入 or 转换为一个向量表示\n",
    "embed = embeddings.embed_query(\"Hi,my name is LiHua\")\n",
    "\n",
    "# 打印向量长度和前5个元素\n",
    "print(len(embed))\n",
    "print(embed[:5])"
   ]
  },
  {
   "cell_type": "code",
   "execution_count": 10,
   "metadata": {},
   "outputs": [],
   "source": [
    "# 基于给定的文档集合 docs 和嵌入模型 embeddings，创建一个内存中的向量数据库实例 db\n",
    "db = DocArrayInMemorySearch.from_documents(docs, embeddings)"
   ]
  },
  {
   "cell_type": "code",
   "execution_count": 11,
   "metadata": {},
   "outputs": [
    {
     "name": "stdout",
     "output_type": "stream",
     "text": [
      "[Document(metadata={'source': 'OutdoorClothingCatalog_1000.csv', 'row': 23}, page_content=': 23\\nname: Campers\\' Adventure Bag, Zip-Top with Shoulder Strap\\ndescription: Ideal for waterfowling, dog training or shooting, the water-resistant zip-top tote stands up to rugged use in the field while keeping your belongings protected and dry. It\\'s been updated with a convenient shoulder strap. \\n\\nSpecs\\nMedium\\nCapacity: Approx. 936 cu. in., 15 L.\\nWeight: 1 lb. 1 oz.\\nDimensions: 12\"H x 13\"W x 6\"D.\\n\\nLarge\\nCapacity: Approx. 1,785 cu. in., 29 L.\\nWeight: 1 lb. 9 oz.\\nDimensions: 15\"H x 17\"W x 7\"D.\\n\\nExtra-Large\\nCapacity: Approx. 3,230 cu. in., 53 L.\\nWeight: 2 lb 3 oz.\\nDimensions: 17\"H x 19\"W x 10\"D.\\n\\nConstruction\\nThermoplastic interior coating that\\'s both durable and water resistant to keep your gear dry.\\nMade from a tough 1,200-denier polyester shell.\\nOverlapped seams double-stitched with nylon won\\'t rot or break.\\nAdjustable carry shoulder strap made from rugged nylon webbing'), Document(metadata={'source': 'OutdoorClothingCatalog_1000.csv', 'row': 313}, page_content=\": 313\\nname: Men's Stay Grounded Tee, Short-Sleeve\\ndescription: This cool, lightweight tee will make biting insects head in the other direction. With the help of Burlington Labs, this shirt is evenly treated with permethrin, a synthetic form of a naturally occurring bug repellent, so you can be free of insects. \\n\\nSize & Fit: Traditional Fit: Relaxed through the chest, sleeve and waist.\\n\\nFabric & Care: 76% polyester, 20% cotton and 4% spandex. UPF 50+ rated – the highest rated sun protection possible. \\n\\nAdditional Features: Treated with permethrin, a synthetic version of a chemical produced naturally by daisies. Built with some cotton and spandex for softness and stretch. Built with the same permethrin treatment as our bestselling No Fly Zone™ Fishing Apparel. Quick-drying, moisture-wicking fabric. Available in US only. Imported. \\n\\nSun Protection That Won't Wear Off: Our high-performance fabric provides SPF 50+ sun protection, blocking 98% of the sun's harmful rays. \\n\\nTell Biting Insects to Take a Hike: No Fly Zone repels biting insects like ticks, black flies and mosquitoes. It's odorless and lasts\"), Document(metadata={'source': 'OutdoorClothingCatalog_1000.csv', 'row': 155}, page_content=\": 155\\nname: Careless Indestructible Tee, Timeless Fit, Long-Sleeve Henley\\ndescription: Made of soft cotton that resists wrinkles, stains, shrinking, fading and pilling, our resilient henley keeps its shape wash after wash. Size & Fit Traditional Fit: Relaxed through the chest, sleeve and waist.\\n\\nWhy We Love It We’ve put our Unshrinkable Carefree Tees to the test, in the lab and in the field. And we’re glad to say our unshrinkable t-shirts passed with flying colors. What’s more, the 100% cotton fabric resists wrinkles, stains, fading, pilling and shrinking, so our shirt keeps its true-to-size fit while maintaining its comfort and softness. No wonder it’s been a customer favorite for as long as we've been making it.\\n\\nFabric & Care 100% jersey-knit cotton. Double ring-spun fabric fights shrinkage, stains, wrinkles, fading and pilling. Built for comfort, the fabric gets even softer the more you wash and dry it. Machine wash and dry.\\n\\nAdditional Features Comfortable enough for everyday wear. Durable double-needle stitching. Soft jersey-knit taping on neck seam. Straight hem can be worn tucked or untucked. Tagless\"), Document(metadata={'source': 'OutdoorClothingCatalog_1000.csv', 'row': 280}, page_content=\": 280\\nname: Women's Ultralight Featherweight Down Jacket, Print\\ndescription: Our revolutionary 850 down jacket defies cold and wet weather – and comparison. We combined all the best outerwear technology – innovative DownTek fill, 850-fill-power, and a Pertex Quantum polyester shell – for unbeatable performance. When it comes to comfort ratings, light activity is suitable up to 30° and moderate activity up to -20°. The fit is closer with a slightly slimmer waist, slightly fitted, and best with midweight layers. It falls at the hip. \\n\\nWe start with premium 850 down, which provides more warmth for its weight, and then treat it with revolutionary DownTek that allows our jackets to do what many others can’t – keep you warm, even in wet conditions. Unlike ordinary down that soaks up moisture, ours absorbs 33% less moisture and dries 66% faster so it stays light, lofty, and warm. On the outside, the game-changing Pertex Quantum nylon shell is tightly woven to resist the elements. \\n\\nThe technology behind the 850 down jacket is revolutionary DownTek treated down that stays dry longer and dries out faster, making a great insulator even better. Additional features include external zip handwarmer pockets, internal stowaway pocket that\")]\n",
      "4\n"
     ]
    }
   ],
   "source": [
    "# 一个查询字符串query\n",
    "query = \"Please suggest a shirt with sunblocking\"\n",
    "# 使用向量数据库实例 db 进行相似度搜索，返回与查询 query 最相似的文档\n",
    "docs_mini = db.similarity_search(query)\n",
    "\n",
    "print(list(docs_mini))\n",
    "print(len(docs_mini))"
   ]
  },
  {
   "cell_type": "code",
   "execution_count": 12,
   "metadata": {},
   "outputs": [
    {
     "data": {
      "text/plain": [
       "Document(metadata={'source': 'OutdoorClothingCatalog_1000.csv', 'row': 0}, page_content=\": 0\\nname: Women's Campside Oxfords\\ndescription: This ultracomfortable lace-to-toe Oxford boasts a super-soft canvas, thick cushioning, and quality construction for a broken-in feel from the first time you put them on. \\n\\nSize & Fit: Order regular shoe size. For half sizes not offered, order up to next whole size. \\n\\nSpecs: Approx. weight: 1 lb.1 oz. per pair. \\n\\nConstruction: Soft canvas material for a broken-in feel and look. Comfortable EVA innersole with Cleansport NXT® antimicrobial odor control. Vintage hunt, fish and camping motif on innersole. Moderate arch contour of innersole. EVA foam midsole for cushioning and support. Chain-tread-inspired molded rubber outsole with modified chain-tread pattern. Imported. \\n\\nQuestions? Please contact us for any inquiries.\")"
      ]
     },
     "execution_count": 12,
     "metadata": {},
     "output_type": "execute_result"
    }
   ],
   "source": [
    "docs[0]"
   ]
  },
  {
   "cell_type": "code",
   "execution_count": null,
   "metadata": {},
   "outputs": [],
   "source": [
    "# 从向量存储器创建一个检索器\n",
    "# 检索器定义了一个接受查询内容并返回相似文档的方法\n",
    "retriever = db.as_retriever()"
   ]
  },
  {
   "cell_type": "code",
   "execution_count": 21,
   "metadata": {},
   "outputs": [],
   "source": [
    "model = OllamaLLM(model=\"deepseek-r1:1.5b\",base_url=\"http://localhost:11434\",temperature=0.5)\n",
    "\n",
    "# 将检索出来的文档合并\n",
    "qdocs = \".\".join([docs[i].page_content for i in range(len(docs))])\n",
    "\n",
    "# 使用检索器检索与查询 query 最相似的文档，并使用模型 model 生成响应\n",
    "response = model.invoke(f\"{qdocs} Question: Please list all your \\\n",
    "shirts with sun protection in a table in markdown and summarize each one.\")"
   ]
  },
  {
   "cell_type": "code",
   "execution_count": 22,
   "metadata": {},
   "outputs": [
    {
     "data": {
      "text/markdown": [
       "<think>\n",
       "Okay, so I need to create a markdown table listing all the shirts that provide sun protection (SP) from 0 to 5 levels. The user has already provided a list of 12 shirts, each with their respective SP levels. My task is to format this into a table and summarize each shirt's details.\n",
       "\n",
       "First, I'll need to ensure that the markdown syntax is correct for tables in markdown. Each row should have headers like \"Shirt Name\" and \"Sun Protection Level\", followed by the details of each shirt under three columns: \"Description\", \"Size & Fit\", and \"Why We Love Them\".\n",
       "\n",
       "I notice that some shirts are from different brands, so I'll need to include their brand names as well. For example, Men's Classic Denim is from 1912, and CozyPrint Sweater Fleece Pullover is from CozyPrint.\n",
       "\n",
       "When summarizing each shirt, I should highlight key points such as the SP level, description, size and fit details, and why they're loved by customers. It might be good to mention if they are made from specific materials or features that make them appealing.\n",
       "\n",
       "I also need to ensure consistency in formatting for all rows, making sure there are no missing columns or incorrect data entries. Since some descriptions are quite detailed, I should parse through each one carefully to extract the necessary information without missing any crucial details.\n",
       "\n",
       "Finally, after creating the table and summarizing each shirt, I'll double-check that everything looks clean and is properly formatted in markdown cells.\n",
       "</think>\n",
       "\n",
       "Here is the markdown table listing all the shirts with sun protection (SP) levels:\n",
       "\n",
       "| Shirt Name       | Sun Protection Level |\n",
       "|------------------|--------------------|\n",
       "| Men's Classic Denim  | 1                  |\n",
       "| Women's NRS Endurance Spray Paddling Pants | 2                 |\n",
       "| Women's Stop Flies Hoodie | 4                  |\n",
       "| Modern Utility Bag | 5                  |\n",
       "\n",
       "### Summary of Each Shirt:\n",
       "\n",
       "1. **Men's Classic Denom In Denim (1 SP)**\n",
       "   - **Description:** Premium, soft, and authentic denim that lasts wash after wash.\n",
       "   - **Size & Fit:** Standard Fit – sits lower on the waist and straight through the hip and thigh for a streamlined look.\n",
       "   - **Why We Love Them:** Known for its strength, softness, and authentic vintage character. Made from premium ring-spun denim.\n",
       "\n",
       "2. **Women's NRS Endurance Spray Paddling Pants (2 SP)**\n",
       "   - **Description:** Waterproof, breathable fabric designed for splash paddling in cooler weather.\n",
       "   - **Size & Fit:** Standard Fit – sits lower on the waist and straight through the hip and thigh for a streamlined look.\n",
       "   - **Why We Love Them:** Made from waterproof, breathable HyproTex™ 2.5 fabric that allows excess heat and moisture to escape. GENUine care with machine washing and drying.\n",
       "\n",
       "3. **Women's Stop Flies Hoodie (4 SP)**\n",
       "   - **Description:** Bug repellent hoodie with UPF 40+ sun protection.\n",
       "   - **Size & Fit:** Standard Fit – slightly fitted to softly shape the body, falling at the hip for added coverage.\n",
       "   - **Why We Love Them:** Repels ticks, mosquitoes, flies, and other insects. Provides UPF 40+ sun protection with a lightweight, low-profile hood that keeps the sun out without being too bulky.\n",
       "\n",
       "4. **Modern Utility Bag (5 SP)**\n",
       "   - **Description:** Stylish crossbody bag built from tough materials.\n",
       "   - **Size & Fit:** Dimensions – 17\"H x 13\"W x 5.5\"D; capacity – approximately 1,215 cu.in.\n",
       "   - **Why We Love It:** Both stylish and functional. Features a rugged body fabric, antiqued brass metal hardware, and attention to detail in stitching, offering durability and an eye-catching design.\n",
       "\n",
       "Each shirt offers unique features that make them popular among customers for their effectiveness and appeal."
      ],
      "text/plain": [
       "<IPython.core.display.Markdown object>"
      ]
     },
     "metadata": {},
     "output_type": "display_data"
    }
   ],
   "source": [
    "display(Markdown(response))"
   ]
  },
  {
   "cell_type": "code",
   "execution_count": 23,
   "metadata": {},
   "outputs": [],
   "source": [
    "# 使用RetrievalQA创建一个问答链,使用检索器retriever和模型model,\n",
    "# 设置stuff方法来组合文档,并返回一个问答结果。并设置verbose=True以显示详细信息。\n",
    "qa_stuff = RetrievalQA.from_chain_type(\n",
    "    llm=model, \n",
    "    chain_type=\"stuff\", \n",
    "    retriever=retriever, \n",
    "    verbose=True\n",
    ")"
   ]
  },
  {
   "cell_type": "code",
   "execution_count": 24,
   "metadata": {},
   "outputs": [
    {
     "name": "stdout",
     "output_type": "stream",
     "text": [
      "\n",
      "\n",
      "\u001b[1m> Entering new RetrievalQA chain...\u001b[0m\n",
      "\n",
      "\u001b[1m> Finished chain.\u001b[0m\n"
     ]
    },
    {
     "data": {
      "text/markdown": [
       "<think>\n",
       "Okay, so I need to help the user by listing all their shirts that have sun protection in a table using Markdown. First, I should recall what the user provided. They mentioned several clothing items like sweatpants, jeans, sweaters, and fleece pullovers with specific descriptions.\n",
       "\n",
       "I remember they had 22 shirts listed before, each with some details. Now, they want to add sun protection to these shirts. Each shirt has a description that includes features relevant for sun protection. So, I need to go through each shirt and check if it mentions any sun protection features or needs one.\n",
       "\n",
       "Looking at the first shirt, \"Comfyside Sweats,\" it's a sweatpants with a description about being made from ultra-soft French terry fabric. The additional feature is an elastic waist. Since sweatpants are designed for movement, they might not have much sun protection, but I should note that if applicable.\n",
       "\n",
       "Next, \"Dynamic Denim Jeans\" has features like five-pockets and traditional styling. Again, no mention of sun protection here.\n",
       "\n",
       "Then there's the \"Cozy Cable Knit Sweater,\" which is all-cotton and described as lightweight. It mentions being a pullover and lightweight, so maybe it doesn't need sun protection unless they're wearing it in harsh weather, but I'll include it if it's relevant.\n",
       "\n",
       "The \"Mountain Hiker Fleece Pullover\" is similar to the cable one, just on a different fabric type. It says it's 100% recycled polyester and machine-washed. Again, no mention of sun protection, so maybe not needed unless they're wearing it in extreme conditions.\n",
       "\n",
       "Wait, but I should check if any of these shirts are known for being sun-protective. From what I know, some athletic wear can be sun-blocker, but sweatpants and jeans might have more moisture management features. So perhaps none of the listed shirts need sun protection unless they're specifically designed that way.\n",
       "\n",
       "Therefore, in the table, each shirt should just list their name, description, size, fit, fabric, care, and additional features. The \"Additional Features\" section is for things like pockets or zips, which don't directly relate to sun protection. So I won't include any sun-protected features unless they're specific.\n",
       "\n",
       "I need to make sure the Markdown table is correctly formatted with headers and rows. Each shirt will have its own row in the table without adding any extra information beyond what's provided.\n",
       "</think>\n",
       "\n",
       "Here is a table listing all your shirts with relevant details, including those that might be considered sun-protected:\n",
       "\n",
       "| Shirt Name       | Description                                                                 |\n",
       "|------------------|--------------------------------------------------------------------------|\n",
       "| Comfyside Sweats | Ultra-soft French terry sweatpants in a straight-leg style.                |\n",
       "| Dynamic Denim Jeans | Comfortable 100% cotton denim with a slightly fitted design.              |\n",
       "| Cozy Cable Knit Sweater | Lightweight pullover all-cotton, soft and breathable.                 |\n",
       "| Mountain Hiker Fleece Pullover | Recycled polyester fleece for warmth on the trail or backyard. |\n",
       "\n",
       "Each shirt is described without mentioning sun-protected features unless explicitly noted in their specifications."
      ],
      "text/plain": [
       "<IPython.core.display.Markdown object>"
      ]
     },
     "metadata": {},
     "output_type": "display_data"
    }
   ],
   "source": [
    "query =  \"Please list all your shirts with sun protection in a table \\\n",
    "in markdown and summarize each one.\"\n",
    "\n",
    "response = qa_stuff.run(query)\n",
    "display(Markdown(response))"
   ]
  },
  {
   "cell_type": "code",
   "execution_count": null,
   "metadata": {},
   "outputs": [
    {
     "data": {
      "text/markdown": [
       "<think>\n",
       "Alright, let me try to figure this out. The user has provided several pieces of context about different clothing items, specifically shirts that offer sun protection. They want a summary of each shirt with their details presented in a table format.\n",
       "\n",
       "First, I need to extract the relevant information from each context. Each shirt has a name, size and fit description, fabric composition, care instructions, additional features, and mentions of sun protection or related info.\n",
       "\n",
       "Starting with Women's Tropical Tee (ID 679), it's sleeveless, button-up, made of 71% nylon and 29% polyester. It has UPF 50+ protection, is machine washable, and has a slightly fitted design. The description mentions softening the body, falling at the hip.\n",
       "\n",
       "Next, Sun Shield Shirt (ID 255) is also sleeveless, made from 78% nylon and 22% Lycra Xtra Life fiber. It's UPF 50+, hand washable, and wrinkle-resistant. The fit description says slightly fitted with a soft shape.\n",
       "\n",
       "Tropical Breeze Shirt (ID 619) is a long-sleeve shirt made of lightweight materials, UPF 50+, wrinkle-free, dries quickly, and has features like front and back cape venting, two bellows pockets, and an imported design. It uses high-performance fabric with SPF 50+.\n",
       "\n",
       "Men's Plaid Tropic Shirt (ID 374) is a short-sleeve shirt made of 52% polyester and 48% nylon, UPF 50+, machine washable, and has features like front and back cape venting, two bellows pockets, an imported design, and mentions SPF 50+.\n",
       "\n",
       "Now, I need to create a markdown table listing each shirt with all the details. Each row should include the shirt name, description, fabric composition, care instructions, additional features, sun protection info, and size & fit notes.\n",
       "\n",
       "I have to make sure that each point is accurately captured from the provided context without adding my own information. Also, I need to ensure that the table is properly formatted in markdown, using appropriate syntax for headers and rows.\n",
       "\n",
       "Finally, I'll summarize each shirt by highlighting their key features related to sun protection and how they can benefit someone looking to stay dry during outdoor activities.\n",
       "</think>\n",
       "\n",
       "Here is a table summarizing all the shirts with sun protection:\n",
       "\n",
       "| **Shirt Name** | **Description**                                                                                   | **Fabric & Care**                                                                                     | **Additional Features**                                                                                       | **Size & Fit Notes**                                                                                          | **Sun Protection Info**                                                                                         |\n",
       "|-----------------|---------------------------------------------------------------------------------------|------------------------------------------------------------------------------------------------------------------|---------------------------------------------------------------------------------------------------|--------------------------------------------------------------------------------------------------------------------|-----------------------------------------------------------------------------------------------------|\n",
       "| Women's Tropical Tee (ID 679) | A sleeveless button-up shirt with a slightly fitted design, softening the body. Falls at the hip. Made of 71% nylon and 29% polyester. Features include UPF 50+ protection, machine washable, and imported materials. | Softly shapes the body, falls at the hip. | Softly shapes the body, falls at the hip. | Slightly fitted: Softly shapes the body. Falls at hip. | Slightly Fitted: Softly shapes the body. Falls at hip. | High-performance fabric provides SPF 50+ protection, blocking 98% of UV rays. | Size & Fit Notes: Slightly Fitted: Softly shapes the body. Falls at hip. |\n",
       "| Sun Shield Shirt (ID 255) | A sleeveless shirt with a slightly fitted design, softening the body. Falls at the hip. Made of 78% nylon and 22% Lycra Xtra Life fiber. Features include UPF 50+ protection, hand washable, and wrinkle-resistant. | Softly shapes the body, falls at the hip. | Softly shapes the body, falls at the hip. | Wicks moisture for quick-drying comfort. Fits comfortably over a favorite swimsuit. | Slightly Fitted: Softly shapes the body. Falls at hip. | Made of 78% nylon and 22% Lycra Xtra Life fiber. UPF 50+ rated, highest sun protection possible. Hand washable, line dry. | Size & Fit Notes: Slightly Fitted: Softly shapes the body. Falls at hip. |\n",
       "| Tropical Breeze Shirt (ID 619) | A long-sleeve shirt made of lightweight materials with a slightly fitted design. Features include UPF 50+ protection, wrinkle-free, and dries quickly. Made of shell (71% nylon, 29% polyester), Cape lining (100% polyester), and polyester-mesh inserts. Features include UV-wicking fabric, wrinkle-resistant, and imported design. Uses high-performance fabric with SPF 50+ protection. | Lightweight, breathable long-sleeve shirt. | Lightweight, breathable long-sleeve shirt. | Wicks moisture for quick-drying comfort. Fits comfortably over a favorite swimsuit. | Slightly Fitted: Softly shapes the body. Falls at hip. | Made of shell (71% nylon, 29% polyester), Cape lining (100% polyester), and polyester-mesh inserts. UPF 50+ rated, highest sun protection possible. Machine washable, line dry. | Size & Fit Notes: Traditional fit: Relaxed through the chest, sleeve, and waist. Falls at hip. |\n",
       "| Men's Plaid Tropic Shirt (ID 374) | A short-sleeve shirt made of 52% polyester and 48% nylon with a slightly fitted design. Features include UPF 50+ protection, machine washable, and imported materials. Features include front and back cape venting, two bellows pockets, an imported design, and mentions SPF 50+. | Importantly made of 52% polyester and 48% nylon. | Importantly made of 52% polyester and 48% nylon. | Front and back cape venting, two bellows pockets, an imported design, and mentions SPF 50+. Machine washable, line dry. | Slightly Fitted: Softly shapes the body. Falls at hip. | Made of 52% polyester and 48% nylon. UPF 50+ rated, highest sun protection possible. Machine washable, line dry. | Size & Fit Notes: Slightly Fitted: Softly shapes the body. Falls at hip. |\n",
       "\n",
       "### **Summary**\n",
       "Each shirt listed offers benefits for staying dry during outdoor activities:\n",
       "- The **Tropical Breeze Shirt** and **Men's Plaid Tropic Shirt** use high-performance materials with SPF 50+ protection.\n",
       "- All shirts are wrinkle-resistant, making them suitable for long wear.\n",
       "- They feature UV-wicking fabric to trap harmful UV rays.\n",
       "- These shirts are easy to wrinkle and do not require washing, ensuring a clean dry finish."
      ],
      "text/plain": [
       "<IPython.core.display.Markdown object>"
      ]
     },
     "metadata": {},
     "output_type": "display_data"
    }
   ],
   "source": [
    "# 使用一条代码也可以完成以上效果，langchain也允许分成五个详细步骤\n",
    "response = index.query(query, llm=model)\n",
    "display(Markdown(response))"
   ]
  },
  {
   "cell_type": "code",
   "execution_count": 30,
   "metadata": {},
   "outputs": [
    {
     "ename": "ValidationError",
     "evalue": "1 validation error for VectorstoreIndexCreator\nchain_type\n  Extra inputs are not permitted [type=extra_forbidden, input_value='Refine', input_type=str]\n    For further information visit https://errors.pydantic.dev/2.10/v/extra_forbidden",
     "output_type": "error",
     "traceback": [
      "\u001b[1;31m---------------------------------------------------------------------------\u001b[0m",
      "\u001b[1;31mValidationError\u001b[0m                           Traceback (most recent call last)",
      "Cell \u001b[1;32mIn[30], line 8\u001b[0m\n\u001b[0;32m      1\u001b[0m \u001b[38;5;66;03m# 创建索引时，也可以自定义索引\u001b[39;00m\n\u001b[0;32m      2\u001b[0m \u001b[38;5;66;03m# 有三种不同的方法对许多不同类型的分块进行相同类型的问题问答，\u001b[39;00m\n\u001b[0;32m      3\u001b[0m \u001b[38;5;66;03m# 分别是 Map_reduce , Refine 和 Map_rerank\u001b[39;00m\n\u001b[1;32m   (...)\u001b[0m\n\u001b[0;32m      6\u001b[0m \u001b[38;5;66;03m# 但是它使用一个固定的问题来合并它们，而不是使用每个分块的问题。\u001b[39;00m\n\u001b[0;32m      7\u001b[0m \u001b[38;5;66;03m# Map_rerank 是一种更复杂的方法，它将每个分块都作为单独的问题进行回答，然后将它们合并在一起，\u001b[39;00m\n\u001b[1;32m----> 8\u001b[0m index \u001b[38;5;241m=\u001b[39m \u001b[43mVectorstoreIndexCreator\u001b[49m\u001b[43m(\u001b[49m\n\u001b[0;32m      9\u001b[0m \u001b[43m    \u001b[49m\u001b[43mvectorstore_cls\u001b[49m\u001b[38;5;241;43m=\u001b[39;49m\u001b[43mDocArrayInMemorySearch\u001b[49m\u001b[43m,\u001b[49m\n\u001b[0;32m     10\u001b[0m \u001b[43m     \u001b[49m\u001b[43mchain_type\u001b[49m\u001b[38;5;241;43m=\u001b[39;49m\u001b[38;5;124;43m\"\u001b[39;49m\u001b[38;5;124;43mRefine\u001b[39;49m\u001b[38;5;124;43m\"\u001b[39;49m\u001b[43m,\u001b[49m\n\u001b[0;32m     11\u001b[0m \u001b[43m    \u001b[49m\u001b[43membedding\u001b[49m\u001b[38;5;241;43m=\u001b[39;49m\u001b[43membeddings\u001b[49m\u001b[43m,\u001b[49m\n\u001b[0;32m     12\u001b[0m \u001b[43m)\u001b[49m\u001b[38;5;241m.\u001b[39mfrom_loaders([data])\n",
      "File \u001b[1;32mc:\\Users\\33249\\anaconda3\\envs\\xhd\\Lib\\site-packages\\pydantic\\main.py:214\u001b[0m, in \u001b[0;36mBaseModel.__init__\u001b[1;34m(self, **data)\u001b[0m\n\u001b[0;32m    212\u001b[0m \u001b[38;5;66;03m# `__tracebackhide__` tells pytest and some other tools to omit this function from tracebacks\u001b[39;00m\n\u001b[0;32m    213\u001b[0m __tracebackhide__ \u001b[38;5;241m=\u001b[39m \u001b[38;5;28;01mTrue\u001b[39;00m\n\u001b[1;32m--> 214\u001b[0m validated_self \u001b[38;5;241m=\u001b[39m \u001b[38;5;28;43mself\u001b[39;49m\u001b[38;5;241;43m.\u001b[39;49m\u001b[43m__pydantic_validator__\u001b[49m\u001b[38;5;241;43m.\u001b[39;49m\u001b[43mvalidate_python\u001b[49m\u001b[43m(\u001b[49m\u001b[43mdata\u001b[49m\u001b[43m,\u001b[49m\u001b[43m \u001b[49m\u001b[43mself_instance\u001b[49m\u001b[38;5;241;43m=\u001b[39;49m\u001b[38;5;28;43mself\u001b[39;49m\u001b[43m)\u001b[49m\n\u001b[0;32m    215\u001b[0m \u001b[38;5;28;01mif\u001b[39;00m \u001b[38;5;28mself\u001b[39m \u001b[38;5;129;01mis\u001b[39;00m \u001b[38;5;129;01mnot\u001b[39;00m validated_self:\n\u001b[0;32m    216\u001b[0m     warnings\u001b[38;5;241m.\u001b[39mwarn(\n\u001b[0;32m    217\u001b[0m         \u001b[38;5;124m'\u001b[39m\u001b[38;5;124mA custom validator is returning a value other than `self`.\u001b[39m\u001b[38;5;130;01m\\n\u001b[39;00m\u001b[38;5;124m'\u001b[39m\n\u001b[0;32m    218\u001b[0m         \u001b[38;5;124m\"\u001b[39m\u001b[38;5;124mReturning anything other than `self` from a top level model validator isn\u001b[39m\u001b[38;5;124m'\u001b[39m\u001b[38;5;124mt supported when validating via `__init__`.\u001b[39m\u001b[38;5;130;01m\\n\u001b[39;00m\u001b[38;5;124m\"\u001b[39m\n\u001b[0;32m    219\u001b[0m         \u001b[38;5;124m'\u001b[39m\u001b[38;5;124mSee the `model_validator` docs (https://docs.pydantic.dev/latest/concepts/validators/#model-validators) for more details.\u001b[39m\u001b[38;5;124m'\u001b[39m,\n\u001b[0;32m    220\u001b[0m         stacklevel\u001b[38;5;241m=\u001b[39m\u001b[38;5;241m2\u001b[39m,\n\u001b[0;32m    221\u001b[0m     )\n",
      "\u001b[1;31mValidationError\u001b[0m: 1 validation error for VectorstoreIndexCreator\nchain_type\n  Extra inputs are not permitted [type=extra_forbidden, input_value='Refine', input_type=str]\n    For further information visit https://errors.pydantic.dev/2.10/v/extra_forbidden"
     ]
    }
   ],
   "source": [
    "# 创建索引时，也可以自定义索引\n",
    "# 有三种不同的方法对许多不同类型的分块进行相同类型的问题问答，\n",
    "# 分别是 Map_reduce , Refine 和 Map_rerank\n",
    "# Map_reduce 是最常用的方法，它将每个分块都作为单独的问题进行回答，然后将它们合并在一起。\n",
    "# Refine 是一种更智能的方法，它将每个分块都作为单独的问题进行回答，然后将它们合并在一起，\n",
    "# 但是它使用一个固定的问题来合并它们，而不是使用每个分块的问题。\n",
    "# Map_rerank 是一种更复杂的方法，它将每个分块都作为单独的问题进行回答，然后将它们合并在一起，\n",
    "index = VectorstoreIndexCreator(\n",
    "    vectorstore_cls=DocArrayInMemorySearch,\n",
    "     chain_type=\"Refine\",\n",
    "    embedding=embeddings,\n",
    ").from_loaders([data])"
   ]
  }
 ],
 "metadata": {
  "kernelspec": {
   "display_name": "xhd",
   "language": "python",
   "name": "python3"
  },
  "language_info": {
   "codemirror_mode": {
    "name": "ipython",
    "version": 3
   },
   "file_extension": ".py",
   "mimetype": "text/x-python",
   "name": "python",
   "nbconvert_exporter": "python",
   "pygments_lexer": "ipython3",
   "version": "3.11.10"
  }
 },
 "nbformat": 4,
 "nbformat_minor": 2
}
