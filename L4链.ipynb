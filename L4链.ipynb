{
 "cells": [
  {
   "cell_type": "code",
   "execution_count": 3,
   "metadata": {},
   "outputs": [
    {
     "name": "stdout",
     "output_type": "stream",
     "text": [
      "<think>\n",
      "\n",
      "</think>\n",
      "\n",
      "你好！很高兴见到你，有什么我可以帮忙的吗？无论是学习、工作还是生活中的问题，都可以告诉我哦！😊\n"
     ]
    }
   ],
   "source": [
    "from langchain_ollama import OllamaLLM\n",
    "\n",
    "model = OllamaLLM(model=\"deepseek-r1:1.5b\",\n",
    "                  base_url=\"http://localhost:11434\",temperature=0.9)\n",
    "\n",
    "prompt = \"你好\"\n",
    "response = model(prompt)\n",
    "print(response)"
   ]
  },
  {
   "cell_type": "markdown",
   "metadata": {},
   "source": [
    "#### LLMChain "
   ]
  },
  {
   "cell_type": "code",
   "execution_count": null,
   "metadata": {},
   "outputs": [
    {
     "name": "stderr",
     "output_type": "stream",
     "text": [
      "C:\\Users\\33249\\AppData\\Local\\Temp\\ipykernel_51772\\2547273279.py:7: LangChainDeprecationWarning: The class `LLMChain` was deprecated in LangChain 0.1.17 and will be removed in 1.0. Use :meth:`~RunnableSequence, e.g., `prompt | llm`` instead.\n",
      "  chain = LLMChain(llm=model, prompt=prompt)\n",
      "C:\\Users\\33249\\AppData\\Local\\Temp\\ipykernel_51772\\2547273279.py:9: LangChainDeprecationWarning: The method `Chain.run` was deprecated in langchain 0.1.0 and will be removed in 1.0. Use :meth:`~invoke` instead.\n",
      "  chain.run(product)\n"
     ]
    },
    {
     "data": {
      "text/plain": [
       "'<think>\\nAlright, so I\\'m trying to figure out what the best name would be for a company that makes colorful socks. Let me think about this step by step.\\n\\nFirst, I know that colorful socks are made from natural materials like cotton or recycled materials. The key here is that they\\'re vibrant and eye-catching. Now, I need to come up with a catchy and memorable name that reflects these qualities.\\n\\nHmm, the user mentioned using words like \"fascinating,\" \"vibrant,\" and \"exciting.\" Those seem good because they evoke emotions related to color and interest. But maybe there\\'s something more specific or modern that could fit better for the company name.\\n\\nWait, what about incorporating the word \"rain\"? Rain is a natural element, and it can add a playful twist, which might attract environmentally conscious companies. That sounds fun and dynamic. So, combining those two might make the name catchy.\\n\\nLet me see if there\\'s an existing name that already uses similar elements. Oh yeah, I think \"Rain appealing\" comes to mind. It has the rain theme and is pretty memorable. It also plays on the idea of something vibrant or exciting because rain is dynamic in nature.\\n\\nIs there any better way to make it even more vivid? Maybe adding some descriptive words could help, but since the name needs to be concise and catchy, Rain appealing seems like a solid choice. It keeps the playful and visually engaging aspect without being too long.\\n\\nI should also consider how people might pronounce the name and if it feels right for the company\\'s brand. If someone names their socks \"Rain appealing,\" they\\'d probably get excited about the colors and texture because of the rain theme. That seems like a good fit.\\n\\nWait, another thought: maybe using an adjective like \\'vibrant\\' could add intensity to the name. But \"rain appealing\" already includes a strong sense of playfulness and excitement, so I don\\'t think it needs an extra adjective unless someone wants more emphasis on the vibrant aspect.\\n\\nAlright, after thinking through all these possibilities, I\\'m confident that \"Rain appealing\" is the best name for this company. It\\'s catchy, conveys both color and excitement, and ties into a natural theme.\\n</think>\\n\\nThe best name to describe a company that makes colorful socks could be **\"Rain appealing.\"** This name effectively combines elements of playfulness with vibrant colors, appealing to those who appreciate dynamic and engaging designs.'"
      ]
     },
     "execution_count": 4,
     "metadata": {},
     "output_type": "execute_result"
    }
   ],
   "source": [
    "from langchain.prompts import ChatPromptTemplate\n",
    "from langchain.chains import LLMChain\n",
    "\n",
    "prompt = ChatPromptTemplate.from_template(\"What is the best name  to describe  \\\n",
    "        a company that makes {product}?\")\n",
    "\n",
    "chain = LLMChain(llm=model, prompt=prompt)\n",
    "product = \"colorful socks\"\n",
    "chain.run(product)"
   ]
  },
  {
   "cell_type": "markdown",
   "metadata": {},
   "source": [
    "#### 顺序链/SequentialChain"
   ]
  },
  {
   "cell_type": "code",
   "execution_count": 5,
   "metadata": {},
   "outputs": [],
   "source": [
    "from langchain.chains import SimpleSequentialChain\n",
    "\n",
    "model = OllamaLLM(model=\"deepseek-r1:1.5b\",base_url=\"http://localhost:11434\",temperature=0.9)\n",
    "\n",
    "# 提示词模板1\n",
    "first_prompt =  ChatPromptTemplate.from_template(\"What is the best name to describe \\\n",
    "        a company that makes {product}?\")\n",
    "# Chain 1\n",
    "chain_one = LLMChain(llm=model, prompt=first_prompt)\n",
    "\n",
    "# 提示词模板2\n",
    "second_prompt = ChatPromptTemplate.from_template(\"Write a 20 words description for the following \\\n",
    "        company:{company_name}\")\n",
    "# Chain 2\n",
    "chain_two = LLMChain(llm=model, prompt=second_prompt) "
   ]
  },
  {
   "cell_type": "code",
   "execution_count": 6,
   "metadata": {},
   "outputs": [
    {
     "name": "stdout",
     "output_type": "stream",
     "text": [
      "\n",
      "\n",
      "\u001b[1m> Entering new SimpleSequentialChain chain...\u001b[0m\n",
      "\u001b[36;1m\u001b[1;3m<think>\n",
      "Alright, I need to figure out the best name for a company that makes colorful socks. The user mentioned \"colorful socks,\" so I should think about what other competitors might have. Maybe something with \"frock\" or \"glow\" could work since those are already in use by brands and sound catchy.\n",
      "\n",
      "I wonder if the name needs to include 'socks' but make it more playful instead of too formal. Maybe combining parts of words like 'colorful,' 'socks,' and something else. Words like 'glow,' 'trend,' or even a play on words like 'frosty' might work.\n",
      "\n",
      "I should also consider the brand's target audience – probably kids, adults looking for trendy socks. Words that are appealing to this group would be better. Maybe combining 'colorful' with something fun or energetic could make the name memorable and catchy.\n",
      "</think>\n",
      "\n",
      "A great name for a company making colorful socks could be **GlowFro** (glofkro) – it's catchy, playful, and reflects the color variety while being easy to remember.\u001b[0m\n",
      "\u001b[33;1m\u001b[1;3m<think>\n",
      "Okay, so I need to come up with a 20-word description for this company that makes colorful socks. The user provided some sample names like \"FROCK\" or \"GLOWGLU,\" which are pretty clever and fun. I should think of something similar but maybe more original.\n",
      "\n",
      "First, I'll consider the target audience – likely kids or adults looking for trendy socks. Words that evoke playfulness and coolness would be ideal. Maybe combining colors with something playful like \"frosty\" could work. Alternatively, using words like \"glow,\" \"trend,\" or \"frock\" might add some flair.\n",
      "\n",
      "I should also make sure the name is memorable and not too long. Let me think of some possible combinations:\n",
      "\n",
      "1. **GlowFro** – This one comes to mind because it's catchy, fun, and includes both 'colorful' and 'socks.' It feels modern and energetic.\n",
      "2. **FrostyFro** – This has a play on words with 'frosty,' which could appeal to the casual, trendy crowd.\n",
      "3. **FricklySocks** – Combining 'frickly' (a playful prefix) with 'socks' gives it that cool vibe.\n",
      "\n",
      "I think these names would fit well and are easy to remember. Maybe I can even add some flair to them by making them more catchy or incorporating puns.\n",
      "</think>\n",
      "\n",
      "Here are a few original 20-word names for the company:\n",
      "\n",
      "1. **GlowFro**\n",
      "2. **FrostyFro**\n",
      "3. **FricklySocks**\n",
      "\n",
      "Each of these incorporates playful elements and the target audience's interests, ensuring they're both memorable and appealing to your potential customers.\u001b[0m\n",
      "\n",
      "\u001b[1m> Finished chain.\u001b[0m\n"
     ]
    },
    {
     "data": {
      "text/plain": [
       "'<think>\\nOkay, so I need to come up with a 20-word description for this company that makes colorful socks. The user provided some sample names like \"FROCK\" or \"GLOWGLU,\" which are pretty clever and fun. I should think of something similar but maybe more original.\\n\\nFirst, I\\'ll consider the target audience – likely kids or adults looking for trendy socks. Words that evoke playfulness and coolness would be ideal. Maybe combining colors with something playful like \"frosty\" could work. Alternatively, using words like \"glow,\" \"trend,\" or \"frock\" might add some flair.\\n\\nI should also make sure the name is memorable and not too long. Let me think of some possible combinations:\\n\\n1. **GlowFro** – This one comes to mind because it\\'s catchy, fun, and includes both \\'colorful\\' and \\'socks.\\' It feels modern and energetic.\\n2. **FrostyFro** – This has a play on words with \\'frosty,\\' which could appeal to the casual, trendy crowd.\\n3. **FricklySocks** – Combining \\'frickly\\' (a playful prefix) with \\'socks\\' gives it that cool vibe.\\n\\nI think these names would fit well and are easy to remember. Maybe I can even add some flair to them by making them more catchy or incorporating puns.\\n</think>\\n\\nHere are a few original 20-word names for the company:\\n\\n1. **GlowFro**\\n2. **FrostyFro**\\n3. **FricklySocks**\\n\\nEach of these incorporates playful elements and the target audience\\'s interests, ensuring they\\'re both memorable and appealing to your potential customers.'"
      ]
     },
     "execution_count": 6,
     "metadata": {},
     "output_type": "execute_result"
    }
   ],
   "source": [
    "# 组合顺序链,将第一条链的输出传递给第二条链\n",
    "overall_chain = SimpleSequentialChain(chains=[chain_one,chain_two], verbose=True)\n",
    "\n",
    "overall_chain.run(product)"
   ]
  },
  {
   "cell_type": "code",
   "execution_count": 7,
   "metadata": {},
   "outputs": [],
   "source": [
    "#  SimpleSequentialChain在处理一个输入和一个输出时很方便。\n",
    "#  但是，如果你需要处理多个输入和多个输出，那么你可能会发现SequentialChain更有用。\n",
    "\n",
    "from langchain.chains import SequentialChain\n",
    "\n",
    "first_prompt = ChatPromptTemplate.from_template(\n",
    "    \"Translate the following review to English:\"\n",
    "    \"\\n\\n{Review}\")\n",
    "\n",
    "# Chain 1\n",
    "chain_one = LLMChain(llm=model, prompt=first_prompt,output_key=\"EnglishReview\")"
   ]
  },
  {
   "cell_type": "code",
   "execution_count": 8,
   "metadata": {},
   "outputs": [],
   "source": [
    "second_prompt = ChatPromptTemplate.from_template(\n",
    "    \"Can you summarize the following review in 1 sentence:\"\n",
    "    \"\\n\\n{EnglishReview}\")\n",
    "\n",
    "# Chain 2\n",
    "chain_two = LLMChain(llm=model, prompt=second_prompt,output_key=\"summary\")"
   ]
  },
  {
   "cell_type": "code",
   "execution_count": 9,
   "metadata": {},
   "outputs": [],
   "source": [
    "third_prompt = ChatPromptTemplate.from_template(\n",
    "    \"What language is the following review :\\n\\n{Review}\")\n",
    "\n",
    "# Chain 3\n",
    "chain_three = LLMChain(llm=model, prompt=third_prompt,output_key=\"language\")"
   ]
  },
  {
   "cell_type": "code",
   "execution_count": 10,
   "metadata": {},
   "outputs": [],
   "source": [
    "fourth_prompt = ChatPromptTemplate.from_template(\n",
    "    \"Write a follow up  response  to the following \"\n",
    "    \"summary in the specified language:\"\n",
    "    \"\\n\\nSummary: {summary}\\n\\nLanguage: {language}\")\n",
    "\n",
    "# Chain 4\n",
    "chain_four = LLMChain(llm=model, prompt=fourth_prompt,output_key=\"response\")"
   ]
  },
  {
   "cell_type": "markdown",
   "metadata": {},
   "source": [
    "有很多不同的输入和输出一起运行，需要确保变量名称完全一致，这非常重要！     \n",
    "链中的任何步骤都可以接收多个输入变量！！"
   ]
  },
  {
   "cell_type": "code",
   "execution_count": 11,
   "metadata": {},
   "outputs": [
    {
     "name": "stdout",
     "output_type": "stream",
     "text": [
      "\n",
      "\n",
      "\u001b[1m> Entering new SequentialChain chain...\u001b[0m\n"
     ]
    },
    {
     "name": "stderr",
     "output_type": "stream",
     "text": [
      "C:\\Users\\33249\\AppData\\Local\\Temp\\ipykernel_51772\\3188830326.py:10: LangChainDeprecationWarning: The method `Chain.__call__` was deprecated in langchain 0.1.0 and will be removed in 1.0. Use :meth:`~invoke` instead.\n",
      "  overall_chain(review)\n"
     ]
    },
    {
     "name": "stdout",
     "output_type": "stream",
     "text": [
      "\n",
      "\u001b[1m> Finished chain.\u001b[0m\n"
     ]
    },
    {
     "data": {
      "text/plain": [
       "{'Review': 'Je suis très satisfait de ce produit. Il est de très bonne qualité et fonctionne parfaitement. Je le recommande vivement à tous ceux qui cherchent un produit similaire.',\n",
       " 'EnglishReview': '<think>\\nOkay, so I need to translate this review into English. Let me read through it carefully.\\n\\nThe user says: \"Je suis très satisfait de ce produit. Il est de très bonne qualité et fonctionne parfaitement. Je le recommande vivement à tousthose qui cherchent un produit similaire.\"\\n\\nAlright, breaking it down sentence by sentence.\\n\\n1. \"Je suis very satisfied with this product.\" The first part is quite formal. \"Very satisfied\" can be translated to \"very happy\" or \"exhilarating,\" but in a business context like customer service reviews, \"satisfied\" might be the best fit here. So maybe \"very satisfied.\"\\n\\n2. \"Il est de très bonne qualité.\" Translates directly as \"It is very good quality.\" The word \"baque\" can mean \"good\" or \"better,\" so using that seems more natural in this context.\\n\\n3. \"et fonctionne parfaitement.\" This means \"it functions perfectly.\" The phrase \"excellent travail\" fits well, though \"fonctionne parfaitement\" might be more precise and direct since it\\'s a complete verb phrase indicating perfect performance.\\n\\n4. \"Je le recommande vivement à tousthose qui cherchent un produit similaire.\" Finally, the recommendation part. \"Je le remerrievamment à tous les personnes qui cherchent un produit analogue.\" Translates to \"I recommend it very warmly to all those who are searching for a similar product.\" Here, \"remerrie\" can mean \"recommend\" or \"recommend me,\" which is a bit archaic but fits the context well. \"Vivement\" means \"very much\" and \"vamment\" probably meant \"very warmly,\" so combining them sounds natural.\\n\\nPutting it all together:\\n\\nVery happy with this product, it has excellent quality and works perfectly. I strongly recommend it to everyone who\\'s looking for a similar product.\\n\\nI think that covers the translation accurately while maintaining the original tone and meaning.\\n</think>\\n\\nVery happy with this product, it has excellent quality and functions perfectly. I strongly recommend it to everyone who is looking for a similar product.',\n",
       " 'summary': '<think>\\nOkay, so I need to translate this review into English. Let me go through each part step by step.\\n\\nFirst sentence: \"Je suis très satisfait de ce produit.\" That\\'s pretty formal and technical, so in English I can use \"very satisfied\" to match it. \\n\\nSecond sentence: \"Il est de très bonne qualité.\" Directly translates to \"It is very good quality,\" using \"baque\" to mean \"good.\"\\n\\nThird sentence: \"et fonctionne parfaitement.\" That means \"and functions perfectly,\" so I\\'ll say \"it functions perfectly\" for clarity.\\n\\nFourth sentence: \"Je le recommande vivement à tousthose qui cherchent un produit similaire.\" Here, \"je le remerrievamment à tous les personnes qui cherchent un produit analogue\" sounds natural and formal, especially in a customer service context where the tone is appreciative but slightly archaic.\\n\\nPutting it all together: I\\'ll start with \"Very happy with this product,\" then mention its quality and perfect function. End with a recommendation warmly to others looking for similar products.\\n</think>\\n\\nVery happy with this product, it has excellent quality and functions perfectly. I strongly recommend it to everyone who is looking for a similar product.',\n",
       " 'language': '<think>\\nAlright, I need to figure out what language this review uses. Let me read through it again.\\n\\nThe user starts with \"Je suis very satisfait de ce produit.\" That\\'s a direct quote in French, using the word \"very.\" The sentence ends with \"Il est de très bonne qualité et fonctionne parfaitement.\" Again, there are instances of \"trouver\" or \"est de,\" which I recognize as French verbs that mean \"to get\" or \"to receive.\"\\n\\nSo, putting it all together, the review is in French. The key phrases like \"beau produit\" and \"quoute robe\" indicate that it\\'s a comment on a product of high quality and comfort. The use of words like \"trouver,\" \"de\", and \"et\" confirms that the language here is in French.\\n\\nI should also consider if there are any other languages used but find that most of the key terms point back to French. Therefore, it\\'s safe to conclude that this review is written in French.\\n</think>\\n\\nLa review utilise les termes français comme : \\n\\n- \"beau produit\" (product of high quality)\\n- \"quoute robe\" (very comfortable product)\\n\\nLes mots-clés tels que \"trouver,\" \"de,\" et \"et\" (to receive, this product is, and) renforcent l\\'objectif. Ainsi, la langue utilisée est la français.',\n",
       " 'response': \"<think>\\nAlright, let me figure out the user's request. They provided a summary in French and asked for a follow-up response in English. The user also mentioned that if they know another language, I should consider offering further assistance.\\n\\nThe user wants an accurate translation of their review. However, without seeing the original text, it's challenging to provide precise translations. I can offer general guidance on how to translate reviews or suggest specific terms based on context.\\n\\nI should ask for more details about the summary they provided so that I can assist better. That way, I can ensure my response is helpful and accurate.\\n</think>\\n\\nIl semble que vous avez récupéré une réflexion en français. Si vous souhaitez l'exprimer dans d'autres langues, n'hésitez pas à me contourner !\"}"
      ]
     },
     "execution_count": 11,
     "metadata": {},
     "output_type": "execute_result"
    }
   ],
   "source": [
    "overall_chain = SequentialChain(chains=[chain_one, chain_two, chain_three, chain_four], \n",
    "                                input_variables=[\"Review\"],\n",
    "                                output_variables=[\"EnglishReview\", \"summary\", \"language\", \"response\"],\n",
    "                                verbose=True)\n",
    "\n",
    "review = \"Je suis très satisfait de ce produit. Il est de très bonne qualité et fonctionne parfaitement. Je le recommande vivement à tous ceux qui cherchent un produit similaire.\"\n",
    "\n",
    "# 注意这里是直接使用 __call__ 方法（即 overall_chain(...)）替代 run，它支持多输出\n",
    "# 因为SequentialChain 的 run 方法设计上只支持单输出，所以需要使用 __call__ 方法\n",
    "overall_chain(review)"
   ]
  },
  {
   "cell_type": "markdown",
   "metadata": {},
   "source": [
    "#### 路由链/RouterChain"
   ]
  },
  {
   "cell_type": "code",
   "execution_count": 58,
   "metadata": {},
   "outputs": [],
   "source": [
    "# 多条子链，每条子链的输入和输出不同，需要根据输入选择不同的子链\n",
    "# 这时候就可以使用路由链（RouteChain）\n",
    "\n",
    "physics_template = \"\"\"You are a very smart physics professor. \\\n",
    "You are great at answering questions about physics in a concise\\\n",
    "and easy to understand manner. \\\n",
    "When you don't know the answer to a question you admit\\\n",
    "that you don't know.\n",
    "\n",
    "Here is a question:\n",
    "{input}\"\"\"\n",
    "\n",
    "\n",
    "math_template = \"\"\"You are a very good mathematician. \\\n",
    "You are great at answering math questions. \\\n",
    "You are so good because you are able to break down \\\n",
    "hard problems into their component parts, \n",
    "answer the component parts, and then put them together\\\n",
    "to answer the broader question.\n",
    "\n",
    "Here is a question:\n",
    "{input}\"\"\"\n",
    "\n",
    "history_template = \"\"\"You are a very good historian. \\\n",
    "You have an excellent knowledge of and understanding of people,\\\n",
    "events and contexts from a range of historical periods. \\\n",
    "You have the ability to think, reflect, debate, discuss and \\\n",
    "evaluate the past. You have a respect for historical evidence\\\n",
    "and the ability to make use of it to support your explanations \\\n",
    "and judgements.\n",
    "\n",
    "Here is a question:\n",
    "{input}\"\"\"\n",
    "\n",
    "\n",
    "computerscience_template = \"\"\" You are a successful computer scientist.\\\n",
    "You have a passion for creativity, collaboration,\\\n",
    "forward-thinking, confidence, strong problem-solving capabilities,\\\n",
    "understanding of theories and algorithms, and excellent communication \\\n",
    "skills. You are great at answering coding questions. \\\n",
    "You are so good because you know how to solve a problem by \\\n",
    "describing the solution in imperative steps \\\n",
    "that a machine can easily interpret and you know how to \\\n",
    "choose a solution that has a good balance between \\\n",
    "time complexity and space complexity. \n",
    "\n",
    "Here is a question:\n",
    "{input}\"\"\""
   ]
  },
  {
   "cell_type": "code",
   "execution_count": 59,
   "metadata": {},
   "outputs": [],
   "source": [
    "prompt_infos = [\n",
    "    {\n",
    "        \"name\": \"physics\", \n",
    "        \"description\": \"Good for answering questions about physics\", \n",
    "        \"prompt_template\": physics_template\n",
    "    },\n",
    "    {\n",
    "        \"name\": \"math\", \n",
    "        \"description\": \"Good for answering math questions\", \n",
    "        \"prompt_template\": math_template\n",
    "    },\n",
    "    {\n",
    "        \"name\": \"History\", \n",
    "        \"description\": \"Good for answering history questions\", \n",
    "        \"prompt_template\": history_template\n",
    "    },\n",
    "    {\n",
    "        \"name\": \"computer science\", \n",
    "        \"description\": \"Good for answering computer science questions\", \n",
    "        \"prompt_template\": computerscience_template\n",
    "    }\n",
    "]"
   ]
  },
  {
   "cell_type": "code",
   "execution_count": 60,
   "metadata": {},
   "outputs": [],
   "source": [
    "from langchain.chains.router import MultiPromptChain\n",
    "from langchain.chains.router.llm_router import LLMRouterChain, RouterOutputParser\n",
    "from langchain.prompts import PromptTemplate\n",
    "from langchain_ollama import OllamaLLM\n",
    "\n",
    "# 因为是要解决学术问题，所以重新实例化模型以设置模型温度\n",
    "model = OllamaLLM(model=\"deepseek-r1:1.5b\",base_url=\"http://localhost:11434\",temperature=0)"
   ]
  },
  {
   "cell_type": "code",
   "execution_count": 61,
   "metadata": {},
   "outputs": [],
   "source": [
    "\n",
    "destination_chains = {}\n",
    "for p_info in prompt_infos:\n",
    "    name = p_info[\"name\"]\n",
    "    prompt_template = p_info[\"prompt_template\"]\n",
    "    prompt = ChatPromptTemplate.from_template(template=prompt_template)\n",
    "    chain = LLMChain(llm=model, prompt=prompt)\n",
    "    destination_chains[name] = chain  \n",
    "    \n",
    "destinations = [f\"{p['name']}: {p['description']}\" for p in prompt_infos]\n",
    "destinations_str = \"\\n\".join(destinations)"
   ]
  },
  {
   "cell_type": "code",
   "execution_count": 62,
   "metadata": {},
   "outputs": [],
   "source": [
    "default_prompt = ChatPromptTemplate.from_template(\"{input}\")\n",
    "default_chain = LLMChain(llm=model, prompt=default_prompt)"
   ]
  },
  {
   "cell_type": "code",
   "execution_count": 69,
   "metadata": {},
   "outputs": [],
   "source": [
    "MULTI_PROMPT_ROUTER_TEMPLATE = \"\"\"Given a raw text input to a \\\n",
    "language model select the model prompt best suited for the input. \\\n",
    "You will be given the names of the available prompts and a \\\n",
    "description of what the prompt is best suited for. \\\n",
    "You may also revise the original input if you think that revising\\\n",
    "it will ultimately lead to a better response from the language model.\n",
    "\n",
    "<< FORMATTING >>\n",
    "Return a markdown code snippet with a JSON object formatted to look like:\n",
    "```json\n",
    "{{{{\n",
    "    \"destination\": string \\ name of the prompt to use or \"DEFAULT\"\n",
    "    \"next_inputs\": string \\ a potentially modified version of the original input\n",
    "}}}}\n",
    "```\n",
    "\n",
    "REMEMBER: \"destination\" MUST be one of the candidate prompt \\\n",
    "names specified below OR it can be \"DEFAULT\" if the input is not\\\n",
    "well suited for any of the candidate prompts.\n",
    "REMEMBER: \"next_inputs\" can just be the original input \\\n",
    "if you don't think any modifications are needed.\n",
    "\n",
    "<< CANDIDATE PROMPTS >>\n",
    "{destinations}\n",
    "\n",
    "<< INPUT >>\n",
    "{{input}}\n",
    "\n",
    "<< OUTPUT (remember to include the ```json)>>\"\"\""
   ]
  },
  {
   "cell_type": "code",
   "execution_count": 70,
   "metadata": {},
   "outputs": [],
   "source": [
    "router_template = MULTI_PROMPT_ROUTER_TEMPLATE.format(\n",
    "    destinations=destinations_str\n",
    ")\n",
    "router_prompt = PromptTemplate(\n",
    "    template=router_template,\n",
    "    input_variables=[\"input\"],\n",
    "    output_parser=RouterOutputParser(),\n",
    ")\n",
    "\n",
    "router_chain = LLMRouterChain.from_llm(model, router_prompt)"
   ]
  },
  {
   "cell_type": "code",
   "execution_count": 71,
   "metadata": {},
   "outputs": [],
   "source": [
    "chain = MultiPromptChain(router_chain=router_chain, \n",
    "                         destination_chains=destination_chains, \n",
    "                         default_chain=default_chain, verbose=True\n",
    "                        )"
   ]
  },
  {
   "cell_type": "code",
   "execution_count": 72,
   "metadata": {},
   "outputs": [
    {
     "name": "stdout",
     "output_type": "stream",
     "text": [
      "\n",
      "\n",
      "\u001b[1m> Entering new MultiPromptChain chain...\u001b[0m\n",
      "physics: {'input': 'What is black body radiation?'}\n",
      "\u001b[1m> Finished chain.\u001b[0m\n"
     ]
    },
    {
     "data": {
      "text/plain": [
       "\"<think>\\nOkay, so I need to figure out what black body radiation is. I remember from school that it's related to light and heat, but I'm not exactly sure about all the details. Let me try to break this down step by step.\\n\\nFirst, I think a blackbody is something that absorbs all kinds of electromagnetic radiation. But wait, isn't that too broad? Maybe I should start with what a blackbody actually is. From what I recall, it's an idealized object that emits light across the entire spectrum. So, it can emit red, blue, green, or any other color because it absorbs all wavelengths.\\n\\nNow, when this blackbody is heated, how does it behave? I remember something about thermal radiation. Oh yeah, Planck's law! That must be related. Planck proposed that each object emits energy in discrete packets called quanta. The more you heat a blackbody, the more energy it emits. So, as temperature increases, the peak wavelength of emitted light shifts to shorter wavelengths—like how hotter objects emit more UV than cooler ones.\\n\\nWait, there's also Wien's displacement law here. It says that the peak wavelength is inversely proportional to the temperature. That makes sense because if you heat something, it emits more in the shorter wavelength (blue) part and less in the longer (red) part. So, hotter objects have a bluer peak.\\n\\nBut what about blackbody radiation itself? I think it's the total energy emitted by a blackbody across all wavelengths. The formula for that is Planck's law integrated over all wavelengths. It gives the spectral radiance, which depends on temperature and wavelength. At higher temperatures, the distribution shifts to shorter wavelengths as per Wien's law.\\n\\nI'm trying to remember if there are any exceptions or other types of radiation besides blackbody. Oh right, thermal radiation is what a blackbody emits when heated. But not all objects emit like blackbodies. For example, metals emit more in the UV than blackbodies because they have free electrons that can absorb and re-emit light.\\n\\nSo, blackbody radiation is the maximum energy emitted by an idealized object at a given temperature. It's used in various areas like astrophysics for stars' spectra and in engineering for thermal devices. I think it's also related to the greenhouse effect because greenhouse gases absorb certain wavelengths, preventing them from escaping Earth's atmosphere.\\n\\nWait, how does this relate to real objects? Well, most objects aren't perfect blackbodies. They might have some color or texture that affects their emission. But in theory, if you could make an object emit all wavelengths equally, it would be a blackbody and emit blackbody radiation.\\n\\nI should also consider the applications of blackbody radiation. In thermal imaging, it's used to detect objects at different temperatures by looking for changes in emitted light. In technology, like thermistors or heat sensors, they use blackbodies to measure temperature accurately because their emission spectrum is well-defined.\\n\\nSo putting it all together, blackbody radiation is the total energy a blackbody emits across all wavelengths when heated. It's governed by Planck's law and Wien's displacement law, with the peak wavelength shifting as temperature increases.\\n</think>\\n\\nBlack body radiation refers to the maximum amount of electromagnetic energy emitted by an idealized object at a given temperature. This concept arises from the principles of quantum mechanics proposed by Max Planck. \\n\\nWhen a blackbody is heated, it emits light across all wavelengths due to its interaction with thermal energy. The distribution of this emitted energy follows Wien's displacement law, which states that the peak wavelength of the radiation shifts to shorter wavelengths as the temperature increases. This phenomenon is described by Planck's law, which calculates the spectral radiance (energy per unit area per unit time per unit wavelength) at different wavelengths and temperatures.\\n\\nBlackbody radiation is significant in various fields. For instance, it explains the spectra observed from stars, helping us understand their composition and temperature. In technology, blackbodies are used for precise temperature measurements, such as in thermistors or heat sensors. Additionally, it plays a role in understanding phenomena like the greenhouse effect, where certain wavelengths of energy are absorbed by gases.\\n\\nIn summary, blackbody radiation is the total energy emitted by an idealized object at a given temperature across all wavelengths, governed by Wien's displacement law and Planck's law.\""
      ]
     },
     "execution_count": 72,
     "metadata": {},
     "output_type": "execute_result"
    }
   ],
   "source": [
    "chain.run(\"What is black body radiation?\") "
   ]
  },
  {
   "cell_type": "code",
   "execution_count": 73,
   "metadata": {},
   "outputs": [
    {
     "name": "stdout",
     "output_type": "stream",
     "text": [
      "\n",
      "\n",
      "\u001b[1m> Entering new MultiPromptChain chain...\u001b[0m\n",
      "math: {'input': 'What is 2+2 ?'}\n",
      "\u001b[1m> Finished chain.\u001b[0m\n"
     ]
    },
    {
     "data": {
      "text/plain": [
       "\"<think>\\nI need to determine what 2 plus 2 equals by breaking it down into smaller steps. \\n\\nFirst, I'll consider the numbers involved: 2 and 2. Both are single-digit numbers, so they don't require any special attention.\\n\\nNext, I'll perform the addition operation on these two numbers. Adding 2 and 2 together gives me a total of 4.\\n\\nFinally, I can conclude that 2 plus 2 equals 4.\\n</think>\\n\\nSure! Let's break down the problem step by step:\\n\\n**Question:** What is \\\\(2 + 2\\\\)?\\n\\n**Step-by-Step Explanation:**\\n\\n1. **Identify the Numbers to Add:**\\n   - The numbers we are adding are **2** and **2**.\\n\\n2. **Perform the Addition:**\\n   - Add the two numbers together:\\n     \\\\[\\n     2 + 2 = 4\\n     \\\\]\\n\\n3. **State the Final Answer:**\\n   - Therefore, \\\\(2 + 2\\\\) equals **4**.\\n\\n\\\\boxed{4}\""
      ]
     },
     "execution_count": 73,
     "metadata": {},
     "output_type": "execute_result"
    }
   ],
   "source": [
    "chain.run(\"What is 2+2 ?\")"
   ]
  },
  {
   "cell_type": "code",
   "execution_count": null,
   "metadata": {},
   "outputs": [
    {
     "name": "stdout",
     "output_type": "stream",
     "text": [
      "\n",
      "\n",
      "\u001b[1m> Entering new MultiPromptChain chain...\u001b[0m\n",
      "None: {'input': 'Why does every cell in our body contain DNA?'}\n",
      "\u001b[1m> Finished chain.\u001b[0m\n"
     ]
    },
    {
     "data": {
      "text/plain": [
       "\"<think>\\nOkay, so I'm trying to figure out why every single cell in our body contains DNA. Hmm, let me start by recalling what I know about cells and DNA. Cells are the basic structural units of life, right? They can be found in almost everything we eat, like our organs, tissues, and even parts of plants.\\n\\nDNA stands for Deoxyribonucleic Acid, which is a type of nucleic acid. Nucleic acids are molecules that store genetic information, and DNA is the most common one used in living organisms. I remember hearing something about how DNA is essential for life because it's involved in replication and repair. But why does every cell have DNA?\\n\\nI think cells must be able to replicate their own DNA so they can continue functioning properly. If a cell didn't have DNA, how would it make copies of itself? That doesn't seem possible without some kind of storage mechanism. Maybe that's where the idea of nuclear DNA comes in. The nucleus is the control center for all cellular processes, including DNA replication.\\n\\nSo, if every cell has its own set of genes and proteins stored in their nucleus, then they can replicate themselves by copying this DNA. That makes sense because without DNA, cells couldn't grow, divide, or maintain their structure. But wait, isn't there something about the cell cycle? I think that's when a cell divides into two. The process involves replicating DNA to create new copies of each chromosome.\\n\\nBut why is DNA present in every single one of these cells? Is it because all cells are made up of DNA, or does each cell have its own unique DNA? I guess it's the latter. Each cell has its own set of genes and proteins, which are stored in their respective nuclear DNA. So even though different cells might have similar functions, they're actually carrying their own unique genetic information.\\n\\nI also remember something about the origin of life. The first living cells must have had some kind of way to store genetic information. Maybe through replication or transcription from a common ancestor. But I'm not entirely sure how that works exactly.\\n\\nAnother thought: DNA is double-stranded, meaning it has two complementary strands. This allows for more stable storage and repair mechanisms in the cell. If one strand breaks, the other can be used to reconstruct the DNA. That must be important for processes like repair and preventing errors during replication.\\n\\nSo putting this all together, every cell contains DNA because it's necessary for the cell to store genetic information, replicate its own copies, and ensure proper function. Without DNA, cells couldn't grow, divide, or maintain their structure. Each cell has its unique set of genes and proteins stored in its nucleus, allowing it to adapt to its specific role within the organism.\\n\\nI wonder if there are exceptions or special cases where a cell might not have DNA. Maybe some very specialized cells or certain types of cells that don't need replication? But I think most cells do require DNA for their function, so this seems like a fundamental aspect of life itself.\\n</think>\\n\\nEvery cell in our body contains DNA because it is essential for the cell to store genetic information, replicate its own copies, and ensure proper function. DNA serves as the molecular foundation for all cellular processes, including replication, repair, and growth. Each cell has its unique set of genes and proteins stored in its nuclear DNA, allowing it to adapt to its specific role within an organism. The presence of DNA enables cells to grow, divide, and maintain their structure, making it a fundamental aspect of life itself.\""
      ]
     },
     "execution_count": 76,
     "metadata": {},
     "output_type": "execute_result"
    }
   ],
   "source": [
    "# 注意不要有多余的空格，JSON语法十分严谨，多余的空格或字符会破坏这种严格的格式，导致解析器无法正确识别 JSON 结构\n",
    "chain.run(\"Why does erery cell in our body contain DNA?\")"
   ]
  }
 ],
 "metadata": {
  "kernelspec": {
   "display_name": "xhd",
   "language": "python",
   "name": "python3"
  },
  "language_info": {
   "codemirror_mode": {
    "name": "ipython",
    "version": 3
   },
   "file_extension": ".py",
   "mimetype": "text/x-python",
   "name": "python",
   "nbconvert_exporter": "python",
   "pygments_lexer": "ipython3",
   "version": "3.11.10"
  }
 },
 "nbformat": 4,
 "nbformat_minor": 2
}
